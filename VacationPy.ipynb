{
 "cells": [
  {
   "cell_type": "markdown",
   "metadata": {},
   "source": [
    "# VacationPy\n",
    "---\n",
    "\n",
    "## Starter Code to Import Libraries and Load the Weather and Coordinates Data"
   ]
  },
  {
   "cell_type": "code",
   "execution_count": 12,
   "metadata": {},
   "outputs": [],
   "source": [
    "# Dependencies and Setup\n",
    "import hvplot.pandas\n",
    "import pandas as pd\n",
    "import requests\n",
    "\n",
    "# Import API key\n",
    "from api_keys import geoapify_key"
   ]
  },
  {
   "cell_type": "code",
   "execution_count": 13,
   "metadata": {},
   "outputs": [
    {
     "data": {
      "text/html": [
       "<div>\n",
       "<style scoped>\n",
       "    .dataframe tbody tr th:only-of-type {\n",
       "        vertical-align: middle;\n",
       "    }\n",
       "\n",
       "    .dataframe tbody tr th {\n",
       "        vertical-align: top;\n",
       "    }\n",
       "\n",
       "    .dataframe thead th {\n",
       "        text-align: right;\n",
       "    }\n",
       "</style>\n",
       "<table border=\"1\" class=\"dataframe\">\n",
       "  <thead>\n",
       "    <tr style=\"text-align: right;\">\n",
       "      <th></th>\n",
       "      <th>City_ID</th>\n",
       "      <th>City</th>\n",
       "      <th>Lat</th>\n",
       "      <th>Lng</th>\n",
       "      <th>Max Temp</th>\n",
       "      <th>Humidity</th>\n",
       "      <th>Cloudiness</th>\n",
       "      <th>Wind Speed</th>\n",
       "      <th>Country</th>\n",
       "      <th>Date</th>\n",
       "    </tr>\n",
       "  </thead>\n",
       "  <tbody>\n",
       "    <tr>\n",
       "      <th>0</th>\n",
       "      <td>0</td>\n",
       "      <td>salalah</td>\n",
       "      <td>17.0151</td>\n",
       "      <td>54.0924</td>\n",
       "      <td>294.20</td>\n",
       "      <td>73</td>\n",
       "      <td>0</td>\n",
       "      <td>2.06</td>\n",
       "      <td>OM</td>\n",
       "      <td>1677462632</td>\n",
       "    </tr>\n",
       "    <tr>\n",
       "      <th>1</th>\n",
       "      <td>1</td>\n",
       "      <td>rikitea</td>\n",
       "      <td>-23.1203</td>\n",
       "      <td>-134.9692</td>\n",
       "      <td>300.21</td>\n",
       "      <td>73</td>\n",
       "      <td>1</td>\n",
       "      <td>6.64</td>\n",
       "      <td>PF</td>\n",
       "      <td>1677462632</td>\n",
       "    </tr>\n",
       "    <tr>\n",
       "      <th>2</th>\n",
       "      <td>2</td>\n",
       "      <td>mlonggo</td>\n",
       "      <td>-6.5333</td>\n",
       "      <td>110.7000</td>\n",
       "      <td>298.96</td>\n",
       "      <td>86</td>\n",
       "      <td>96</td>\n",
       "      <td>7.60</td>\n",
       "      <td>ID</td>\n",
       "      <td>1677462633</td>\n",
       "    </tr>\n",
       "    <tr>\n",
       "      <th>3</th>\n",
       "      <td>3</td>\n",
       "      <td>taltal</td>\n",
       "      <td>-25.4000</td>\n",
       "      <td>-70.4833</td>\n",
       "      <td>295.13</td>\n",
       "      <td>74</td>\n",
       "      <td>3</td>\n",
       "      <td>2.19</td>\n",
       "      <td>CL</td>\n",
       "      <td>1677462633</td>\n",
       "    </tr>\n",
       "    <tr>\n",
       "      <th>4</th>\n",
       "      <td>4</td>\n",
       "      <td>sola</td>\n",
       "      <td>-13.8833</td>\n",
       "      <td>167.5500</td>\n",
       "      <td>301.57</td>\n",
       "      <td>77</td>\n",
       "      <td>59</td>\n",
       "      <td>8.28</td>\n",
       "      <td>VU</td>\n",
       "      <td>1677462633</td>\n",
       "    </tr>\n",
       "  </tbody>\n",
       "</table>\n",
       "</div>"
      ],
      "text/plain": [
       "   City_ID     City      Lat       Lng  Max Temp  Humidity  Cloudiness  \\\n",
       "0        0  salalah  17.0151   54.0924    294.20        73           0   \n",
       "1        1  rikitea -23.1203 -134.9692    300.21        73           1   \n",
       "2        2  mlonggo  -6.5333  110.7000    298.96        86          96   \n",
       "3        3   taltal -25.4000  -70.4833    295.13        74           3   \n",
       "4        4     sola -13.8833  167.5500    301.57        77          59   \n",
       "\n",
       "   Wind Speed Country        Date  \n",
       "0        2.06      OM  1677462632  \n",
       "1        6.64      PF  1677462632  \n",
       "2        7.60      ID  1677462633  \n",
       "3        2.19      CL  1677462633  \n",
       "4        8.28      VU  1677462633  "
      ]
     },
     "execution_count": 13,
     "metadata": {},
     "output_type": "execute_result"
    }
   ],
   "source": [
    "# Load the CSV file created in Part 1 into a Pandas DataFrame\n",
    "city_data_df = pd.read_csv(\"output_data/cities.csv\")\n",
    "\n",
    "# Display sample data\n",
    "city_data_df.head()"
   ]
  },
  {
   "cell_type": "markdown",
   "metadata": {},
   "source": [
    "---\n",
    "\n",
    "### Step 1: Create a map that displays a point for every city in the `city_data_df` DataFrame. The size of the point should be the humidity in each city."
   ]
  },
  {
   "cell_type": "code",
   "execution_count": 14,
   "metadata": {},
   "outputs": [
    {
     "data": {},
     "metadata": {},
     "output_type": "display_data"
    },
    {
     "data": {
      "application/vnd.holoviews_exec.v0+json": "",
      "text/html": [
       "<div id='1141'>\n",
       "  <div class=\"bk-root\" id=\"b9d5fe70-3ece-4e27-988d-956504a776f0\" data-root-id=\"1141\"></div>\n",
       "</div>\n",
       "<script type=\"application/javascript\">(function(root) {\n",
       "  function embed_document(root) {\n",
       "    var docs_json = {\"b258ed2f-c332-4533-bc81-b133b28dd432\":{\"defs\":[{\"extends\":null,\"module\":null,\"name\":\"ReactiveHTML1\",\"overrides\":[],\"properties\":[]},{\"extends\":null,\"module\":null,\"name\":\"FlexBox1\",\"overrides\":[],\"properties\":[{\"default\":\"flex-start\",\"kind\":null,\"name\":\"align_content\"},{\"default\":\"flex-start\",\"kind\":null,\"name\":\"align_items\"},{\"default\":\"row\",\"kind\":null,\"name\":\"flex_direction\"},{\"default\":\"wrap\",\"kind\":null,\"name\":\"flex_wrap\"},{\"default\":\"flex-start\",\"kind\":null,\"name\":\"justify_content\"}]},{\"extends\":null,\"module\":null,\"name\":\"GridStack1\",\"overrides\":[],\"properties\":[{\"default\":\"warn\",\"kind\":null,\"name\":\"mode\"},{\"default\":null,\"kind\":null,\"name\":\"ncols\"},{\"default\":null,\"kind\":null,\"name\":\"nrows\"},{\"default\":true,\"kind\":null,\"name\":\"allow_resize\"},{\"default\":true,\"kind\":null,\"name\":\"allow_drag\"},{\"default\":[],\"kind\":null,\"name\":\"state\"}]},{\"extends\":null,\"module\":null,\"name\":\"click1\",\"overrides\":[],\"properties\":[{\"default\":\"\",\"kind\":null,\"name\":\"terminal_output\"},{\"default\":\"\",\"kind\":null,\"name\":\"debug_name\"},{\"default\":0,\"kind\":null,\"name\":\"clears\"}]},{\"extends\":null,\"module\":null,\"name\":\"NotificationAreaBase1\",\"overrides\":[],\"properties\":[{\"default\":\"bottom-right\",\"kind\":null,\"name\":\"position\"},{\"default\":0,\"kind\":null,\"name\":\"_clear\"}]},{\"extends\":null,\"module\":null,\"name\":\"NotificationArea1\",\"overrides\":[],\"properties\":[{\"default\":[],\"kind\":null,\"name\":\"notifications\"},{\"default\":\"bottom-right\",\"kind\":null,\"name\":\"position\"},{\"default\":0,\"kind\":null,\"name\":\"_clear\"},{\"default\":[{\"background\":\"#ffc107\",\"icon\":{\"className\":\"fas fa-exclamation-triangle\",\"color\":\"white\",\"tagName\":\"i\"},\"type\":\"warning\"},{\"background\":\"#007bff\",\"icon\":{\"className\":\"fas fa-info-circle\",\"color\":\"white\",\"tagName\":\"i\"},\"type\":\"info\"}],\"kind\":null,\"name\":\"types\"}]},{\"extends\":null,\"module\":null,\"name\":\"Notification\",\"overrides\":[],\"properties\":[{\"default\":null,\"kind\":null,\"name\":\"background\"},{\"default\":3000,\"kind\":null,\"name\":\"duration\"},{\"default\":null,\"kind\":null,\"name\":\"icon\"},{\"default\":\"\",\"kind\":null,\"name\":\"message\"},{\"default\":null,\"kind\":null,\"name\":\"notification_type\"},{\"default\":false,\"kind\":null,\"name\":\"_destroyed\"}]},{\"extends\":null,\"module\":null,\"name\":\"TemplateActions1\",\"overrides\":[],\"properties\":[{\"default\":0,\"kind\":null,\"name\":\"open_modal\"},{\"default\":0,\"kind\":null,\"name\":\"close_modal\"}]},{\"extends\":null,\"module\":null,\"name\":\"MaterialTemplateActions1\",\"overrides\":[],\"properties\":[{\"default\":0,\"kind\":null,\"name\":\"open_modal\"},{\"default\":0,\"kind\":null,\"name\":\"close_modal\"}]}],\"roots\":{\"references\":[{\"attributes\":{},\"id\":\"1160\",\"type\":\"LinearScale\"},{\"attributes\":{\"coordinates\":null,\"group\":null,\"level\":\"glyph\",\"tile_source\":{\"id\":\"1211\"}},\"id\":\"1214\",\"type\":\"TileRenderer\"},{\"attributes\":{\"axis_label\":\"Longitude\",\"coordinates\":null,\"formatter\":{\"id\":\"1188\"},\"group\":null,\"major_label_policy\":{\"id\":\"1198\"},\"ticker\":{\"id\":\"1187\"}},\"id\":\"1166\",\"type\":\"LinearAxis\"},{\"attributes\":{\"axis_label\":\"Latitude\",\"coordinates\":null,\"formatter\":{\"id\":\"1186\"},\"group\":null,\"major_label_policy\":{\"id\":\"1191\"},\"ticker\":{\"id\":\"1185\"}},\"id\":\"1162\",\"type\":\"LinearAxis\"},{\"attributes\":{\"code\":\"\\n        var projections = Bokeh.require(\\\"core/util/projections\\\");\\n        var x = special_vars.data_x\\n        var y = special_vars.data_y\\n        var coords = projections.wgs84_mercator.invert(x, y)\\n        return \\\"\\\" + (coords[1]).toFixed(4)\\n    \"},\"id\":\"1236\",\"type\":\"CustomJSHover\"},{\"attributes\":{\"bottom_units\":\"screen\",\"coordinates\":null,\"fill_alpha\":0.5,\"fill_color\":\"lightgrey\",\"group\":null,\"left_units\":\"screen\",\"level\":\"overlay\",\"line_alpha\":1.0,\"line_color\":\"black\",\"line_dash\":[4,4],\"line_width\":2,\"right_units\":\"screen\",\"syncable\":false,\"top_units\":\"screen\"},\"id\":\"1175\",\"type\":\"BoxAnnotation\"},{\"attributes\":{},\"id\":\"1198\",\"type\":\"AllLabels\"},{\"attributes\":{\"fill_alpha\":{\"value\":0.5},\"fill_color\":{\"field\":\"color\",\"transform\":{\"id\":\"1216\"}},\"hatch_color\":{\"field\":\"color\",\"transform\":{\"id\":\"1216\"}},\"line_color\":{\"field\":\"color\",\"transform\":{\"id\":\"1216\"}},\"size\":{\"field\":\"size\"},\"x\":{\"field\":\"Lng\"},\"y\":{\"field\":\"Lat\"}},\"id\":\"1223\",\"type\":\"Scatter\"},{\"attributes\":{\"label\":{\"field\":\"color\"},\"renderers\":[{\"id\":\"1225\"}]},\"id\":\"1234\",\"type\":\"LegendItem\"},{\"attributes\":{\"axis\":{\"id\":\"1166\"},\"coordinates\":null,\"dimension\":1,\"grid_line_color\":null,\"group\":null,\"ticker\":null},\"id\":\"1169\",\"type\":\"Grid\"},{\"attributes\":{},\"id\":\"1191\",\"type\":\"AllLabels\"},{\"attributes\":{\"fill_alpha\":{\"value\":0.5},\"fill_color\":{\"field\":\"color\",\"transform\":{\"id\":\"1216\"}},\"hatch_alpha\":{\"value\":0.1},\"hatch_color\":{\"field\":\"color\",\"transform\":{\"id\":\"1216\"}},\"line_alpha\":{\"value\":0.1},\"line_color\":{\"field\":\"color\",\"transform\":{\"id\":\"1216\"}},\"size\":{\"field\":\"size\"},\"x\":{\"field\":\"Lng\"},\"y\":{\"field\":\"Lat\"}},\"id\":\"1221\",\"type\":\"Scatter\"},{\"attributes\":{\"click_policy\":\"mute\",\"coordinates\":null,\"group\":null,\"items\":[{\"id\":\"1234\"}],\"location\":[0,0]},\"id\":\"1233\",\"type\":\"Legend\"},{\"attributes\":{\"callback\":null,\"formatters\":{\"$x\":{\"id\":\"1235\"},\"$y\":{\"id\":\"1236\"}},\"renderers\":[{\"id\":\"1225\"}],\"tags\":[\"hv_created\"],\"tooltips\":[[\"Lng\",\"$x{custom}\"],[\"Lat\",\"$y{custom}\"],[\"City\",\"@{City}\"],[\"Humidity\",\"@{Humidity}\"]]},\"id\":\"1150\",\"type\":\"HoverTool\"},{\"attributes\":{\"dimension\":\"lon\"},\"id\":\"1186\",\"type\":\"MercatorTickFormatter\"},{\"attributes\":{},\"id\":\"1218\",\"type\":\"Selection\"},{\"attributes\":{\"code\":\"\\n        var projections = Bokeh.require(\\\"core/util/projections\\\");\\n        var x = special_vars.data_x\\n        var y = special_vars.data_y\\n        var coords = projections.wgs84_mercator.invert(x, y)\\n        return \\\"\\\" + (coords[0]).toFixed(4)\\n    \"},\"id\":\"1235\",\"type\":\"CustomJSHover\"},{\"attributes\":{\"source\":{\"id\":\"1217\"}},\"id\":\"1226\",\"type\":\"CDSView\"},{\"attributes\":{\"below\":[{\"id\":\"1162\"}],\"center\":[{\"id\":\"1165\"},{\"id\":\"1169\"}],\"frame_height\":300,\"frame_width\":400,\"height\":null,\"left\":[{\"id\":\"1166\"}],\"margin\":[5,5,5,5],\"match_aspect\":true,\"min_border_bottom\":10,\"min_border_left\":10,\"min_border_right\":10,\"min_border_top\":10,\"renderers\":[{\"id\":\"1214\"},{\"id\":\"1225\"}],\"right\":[{\"id\":\"1233\"}],\"sizing_mode\":\"fixed\",\"title\":{\"id\":\"1154\"},\"toolbar\":{\"id\":\"1176\"},\"width\":null,\"x_range\":{\"id\":\"1146\"},\"x_scale\":{\"id\":\"1158\"},\"y_range\":{\"id\":\"1147\"},\"y_scale\":{\"id\":\"1160\"}},\"id\":\"1153\",\"subtype\":\"Figure\",\"type\":\"Plot\"},{\"attributes\":{\"attribution\":\"&copy; <a href=\\\"https://www.openstreetmap.org/copyright\\\">OpenStreetMap</a> contributors\",\"url\":\"https://c.tile.openstreetmap.org/{Z}/{X}/{Y}.png\"},\"id\":\"1211\",\"type\":\"WMTSTileSource\"},{\"attributes\":{\"fill_alpha\":{\"value\":0.2},\"fill_color\":{\"field\":\"color\",\"transform\":{\"id\":\"1216\"}},\"hatch_alpha\":{\"value\":0.2},\"hatch_color\":{\"field\":\"color\",\"transform\":{\"id\":\"1216\"}},\"line_alpha\":{\"value\":0.2},\"line_color\":{\"field\":\"color\",\"transform\":{\"id\":\"1216\"}},\"size\":{\"field\":\"size\"},\"x\":{\"field\":\"Lng\"},\"y\":{\"field\":\"Lat\"}},\"id\":\"1224\",\"type\":\"Scatter\"},{\"attributes\":{},\"id\":\"1170\",\"type\":\"SaveTool\"},{\"attributes\":{},\"id\":\"1171\",\"type\":\"PanTool\"},{\"attributes\":{\"dimension\":\"lat\"},\"id\":\"1187\",\"type\":\"MercatorTicker\"},{\"attributes\":{},\"id\":\"1174\",\"type\":\"ResetTool\"},{\"attributes\":{\"fill_alpha\":{\"value\":0.5},\"fill_color\":{\"field\":\"color\",\"transform\":{\"id\":\"1216\"}},\"hatch_color\":{\"field\":\"color\",\"transform\":{\"id\":\"1216\"}},\"line_color\":{\"field\":\"color\",\"transform\":{\"id\":\"1216\"}},\"size\":{\"field\":\"size\"},\"x\":{\"field\":\"Lng\"},\"y\":{\"field\":\"Lat\"}},\"id\":\"1222\",\"type\":\"Scatter\"},{\"attributes\":{\"zoom_on_axis\":false},\"id\":\"1172\",\"type\":\"WheelZoomTool\"},{\"attributes\":{\"data\":{\"City\":[\"salalah\",\"rikitea\",\"mlonggo\",\"taltal\",\"sola\",\"sitka\",\"mahebourg\",\"luderitz\",\"punta arenas\",\"mataura\",\"steinbach\",\"arys\",\"arraial do cabo\",\"pankrushikha\",\"new norfolk\",\"leh\",\"bluff\",\"lorengau\",\"ushuaia\",\"santa cruz\",\"necochea\",\"georgetown\",\"dedza\",\"ribas do rio pardo\",\"killin\",\"honiara\",\"hofn\",\"tuktoyaktuk\",\"chokurdakh\",\"madikeri\",\"qaanaaq\",\"mehamn\",\"cabra\",\"puerto ayora\",\"san andres\",\"nanortalik\",\"bredasdorp\",\"avarua\",\"hermanus\",\"garowe\",\"yellowknife\",\"garissa\",\"cape town\",\"atar\",\"kapaa\",\"durazno\",\"guerrero negro\",\"suntar\",\"puerto leguizamo\",\"hobart\",\"barrow\",\"saskylakh\",\"lompoc\",\"paithan\",\"tiksi\",\"butaritari\",\"souillac\",\"port alfred\",\"vaini\",\"husavik\",\"coihaique\",\"port-gentil\",\"taoudenni\",\"alofi\",\"longyearbyen\",\"agucadoura\",\"amga\",\"saldanha\",\"alice springs\",\"lebu\",\"cairns\",\"comodoro rivadavia\",\"atuona\",\"budesti\",\"aklavik\",\"shimoda\",\"katsuura\",\"batemans bay\",\"kamina\",\"berdigestyakh\",\"iqaluit\",\"nikolskoye\",\"tutoia\",\"jati\",\"lakatoro\",\"tuatapere\",\"jamestown\",\"bubaque\",\"nouakchott\",\"lecce\",\"tautira\",\"quatre cocos\",\"taganak\",\"waarschoot\",\"beringovskiy\",\"ihosy\",\"pali\",\"thompson\",\"castro\",\"lianran\",\"mar del plata\",\"jaque\",\"pevek\",\"hohhot\",\"nouadhibou\",\"carnarvon\",\"saint george\",\"busselton\",\"sydney\",\"derby\",\"la asuncion\",\"abu dhabi\",\"iquique\",\"bilibino\",\"yulara\",\"bakchar\",\"grindavik\",\"qaqortoq\",\"obo\",\"albanel\",\"mildura\",\"san luis\",\"karratha\",\"ray\",\"albany\",\"sorland\",\"unity\",\"ulaangom\",\"hasaki\",\"dargaville\",\"ribeira grande\",\"zhuhai\",\"jalu\",\"fortuna\",\"tasiilaq\",\"bethel\",\"cabo san lucas\",\"petatlan\",\"saint-philippe\",\"ancud\",\"kambove\",\"hithadhoo\",\"chicama\",\"cam ranh\",\"faya\",\"kungurtug\",\"sur\",\"bandarbeyla\",\"tadine\",\"yadgir\",\"iralaya\",\"upernavik\",\"huarmey\",\"pochutla\",\"ellensburg\",\"kargil\",\"cayenne\",\"cacoal\",\"razdolinsk\",\"dikson\",\"nome\",\"grand gaube\",\"pisco\",\"lagoa\",\"severo-kurilsk\",\"khatanga\",\"nha trang\",\"talnakh\",\"acurenam\",\"belaya gora\",\"atasu\",\"floro\",\"ahipara\",\"port lincoln\",\"eydhafushi\",\"olafsvik\",\"beian\",\"mendi\",\"wasilla\",\"qandala\",\"qasigiannguit\",\"nelson bay\",\"naze\",\"carauari\",\"teya\",\"praia\",\"saint-georges\",\"gat\",\"mount gambier\",\"ginir\",\"panzhihua\",\"kruisfontein\",\"miandrivazo\",\"chuy\",\"itoman\",\"ampanihy\",\"tunceli\",\"ponta do sol\",\"port keats\",\"asau\",\"nantucket\",\"pangnirtung\",\"ranau\",\"pemangkat\",\"magione\",\"mount isa\",\"hilo\",\"east london\",\"magadan\",\"illapel\",\"ornskoldsvik\",\"palembang\",\"san patricio\",\"portland\",\"dutse\",\"khartoum\",\"bhadrak\",\"morant bay\",\"sonoita\",\"matagami\",\"victor harbor\",\"hami\",\"leeton\",\"lappeenranta\",\"caravelas\",\"pitimbu\",\"egvekinot\",\"playa vicente\",\"peniche\",\"raga\",\"valdivia\",\"vilyuysk\",\"sabang\",\"kavieng\",\"vostok\",\"sukumo\",\"hargeysa\",\"anadyr\",\"sandnessjoen\",\"wagar\",\"meulaboh\",\"berezovyy\",\"sakaiminato\",\"komsomolskoye\",\"muros\",\"mae ramat\",\"shiyan\",\"bhawanigarh\",\"sakyla\",\"torbay\",\"provideniya\",\"kincardine\",\"alabat\",\"iracoubo\",\"pimenta bueno\",\"palmer\",\"talara\",\"luganville\",\"deputatskiy\",\"beroroha\",\"brae\",\"uhlove\",\"westport\",\"marakkanam\",\"victoria\",\"lavrentiya\",\"hauterive\",\"mana\",\"clyde river\",\"chinhoyi\",\"ekhabi\",\"linhares\",\"great yarmouth\",\"haines junction\",\"khakhea\",\"koumac\",\"esperance\",\"zacualpan\",\"matai\",\"ichinoseki\",\"marfino\",\"sabha\",\"damavand\",\"kodiak\",\"ust-kuyga\",\"springdale\",\"elbistan\",\"tecoanapa\",\"escarcega\",\"narsaq\",\"gondanglegi\",\"nikolayevsk-na-amure\",\"rodrigues alves\",\"hovd\",\"bingol\",\"alihe\",\"trincomalee\",\"praya\",\"yeppoon\",\"te anau\",\"biak\",\"nishihara\",\"alpena\",\"pionerskiy\",\"kaitangata\",\"kavaratti\",\"muisne\",\"takoradi\",\"iskateley\",\"bacolod\",\"bardiyah\",\"cidreira\",\"vanimo\",\"bambous virieux\",\"pidhorodne\",\"richards bay\",\"hambantota\",\"nizwa\",\"ambo\",\"hampton\",\"havelock\",\"newcastle\",\"santa cruz de tenerife\",\"touros\",\"cherskiy\",\"funtua\",\"portsmouth\",\"bembereke\",\"marawi\",\"kirensk\",\"la suiza\",\"zhigansk\",\"valleyview\",\"bodden town\",\"acapulco\",\"vila velha\",\"axim\",\"roald\",\"coquimbo\",\"chernyshevskiy\",\"wewak\",\"orichi\",\"hirara\",\"kiunga\",\"lamu\",\"khipro\",\"faanui\",\"morki\",\"cockburn town\",\"itarema\",\"harper\",\"calbuco\",\"artyom\",\"juneau\",\"balkhash\",\"katherine\",\"constitucion\",\"kurilsk\",\"berlevag\",\"tabas\",\"sipe sipe\",\"santo tomas\",\"oksbol\",\"port elizabeth\",\"de aar\",\"fairview\",\"san antonio\",\"paracuru\",\"goderich\",\"windsor\",\"bosaso\",\"sidney\",\"hirado\",\"turbat\",\"port macquarie\",\"buala\",\"san carlos de bariloche\",\"walvis bay\",\"thinadhoo\",\"codrington\",\"atikokan\",\"puerto varas\",\"verkhnevilyuysk\",\"saint-augustin\",\"kindu\",\"severo-yeniseyskiy\",\"beberibe\",\"ishinomaki\",\"lichuan\",\"privodino\",\"staryy nadym\",\"krasnoselkup\",\"xiaoweizhai\",\"hit\",\"flin flon\",\"geraldton\",\"tongzi\",\"bonthe\",\"saint anthony\",\"farafangana\",\"raudeberg\",\"lata\",\"ostrovnoy\",\"rudsar\",\"korla\",\"mongu\",\"sorong\",\"grootfontein\",\"mazagao\",\"kaeo\",\"sawakin\",\"gryazovets\",\"marienburg\",\"vardo\",\"skoghall\",\"katyr-yurt\",\"beloha\",\"peresichna\",\"jibuti\",\"byron bay\",\"sao jose da coroa grande\",\"canaries\",\"kankan\",\"antofagasta\",\"bengkulu\",\"norsup\",\"beyneu\",\"ranong\",\"dalby\",\"jiexiu\",\"novyy urengoy\",\"fayaoue\",\"jilin\",\"luyang\",\"healesville\",\"nuuk\",\"ilulissat\",\"los llanos de aridane\",\"colac\",\"port maria\",\"bay roberts\",\"san anselmo\",\"santiago\",\"disna\",\"port hedland\",\"pierre\",\"fukue\",\"rio gallegos\",\"abu kamal\",\"estelle\",\"leningradskiy\",\"atkinson\",\"bathsheba\",\"el doncello\",\"komsomolskiy\",\"norman wells\",\"zhoucheng\",\"zhezkazgan\",\"kupang\",\"padang\",\"sakakah\",\"babylon\",\"novoilinsk\",\"tambopata\",\"inhambane\",\"lamar\",\"pemberton\",\"yumen\",\"amarante do maranhao\",\"kokopo\",\"chapais\",\"ketchikan\",\"novopokrovka\",\"northam\",\"glabbeek\",\"sibolga\",\"sevierville\",\"jinxi\",\"batangafo\",\"baruun-urt\",\"masyaf\",\"bom jesus\",\"santa catalina\",\"trelew\",\"shingu\",\"port hardy\",\"salinas\",\"kidal\",\"manoel urbano\",\"taman\",\"xining\",\"hoshcha\",\"les cayes\",\"shurob\",\"igra\",\"soma\",\"lasa\",\"sars\",\"maceio\",\"pokhara\",\"poya\",\"binghamton\",\"saint austell\",\"dom pedrito\",\"wladyslawowo\",\"sedalia\",\"dingle\",\"svetlogorsk\",\"amberley\",\"rio branco\",\"meadow lake\",\"kazachinskoye\",\"machiques\",\"miramar\",\"tsumeb\",\"alta floresta\",\"aksarka\",\"jumla\",\"lengshuijiang\",\"tabou\",\"kahuta\",\"karabash\",\"rawson\",\"port pirie\",\"veraval\",\"madang\",\"floresti\",\"poronaysk\",\"arkhara\",\"ferme-neuve\",\"gospic\",\"flinders\",\"paita\",\"kodinsk\",\"makinsk\",\"ahuimanu\",\"tura\",\"boda\",\"coxim\",\"union\",\"isangel\",\"pouebo\",\"port moresby\",\"ortega\",\"pacific grove\",\"ayagoz\",\"prince rupert\",\"tromso\",\"mananara\",\"nakamura\",\"moose factory\",\"xai-xai\",\"blackfoot\",\"christchurch\",\"toora-khem\",\"fort nelson\",\"indianola\",\"labuan\",\"pervomayskoye\",\"aktash\",\"bongandanga\",\"sept-iles\",\"zyryanskoye\",\"tahe\",\"airai\",\"evensk\",\"chihuahua\",\"namatanai\",\"kudahuvadhoo\",\"pafos\",\"malamig\",\"scarborough\",\"hervey bay\",\"beipiao\",\"guadalajara\",\"ust-tsilma\",\"along\",\"palu\",\"novikovo\",\"sao filipe\",\"freeport\",\"kapuskasing\",\"pimentel\",\"horsham\",\"yangjiang\",\"santa isabel do rio negro\",\"olinda\"],\"Humidity\":[73,73,86,74,77,55,94,74,76,41,65,68,88,91,42,93,69,87,71,94,55,69,95,88,88,69,81,77,96,56,69,81,78,96,73,86,89,65,87,91,85,70,72,28,78,52,58,87,76,64,76,97,74,25,94,76,94,95,79,84,67,75,25,62,68,79,85,86,27,78,70,32,79,81,98,49,38,59,96,86,74,96,86,71,73,55,80,65,67,100,74,81,81,77,93,93,30,72,93,68,68,86,81,70,77,66,51,38,71,84,78,57,81,93,23,98,93,89,48,85,49,24,51,22,76,88,98,86,36,84,66,55,13,75,95,85,76,80,81,89,94,77,72,78,64,93,52,74,79,46,83,100,80,77,68,95,100,93,95,95,77,80,78,54,72,84,90,97,98,94,85,100,73,58,64,89,100,91,71,61,85,74,51,97,96,68,83,100,62,69,67,93,89,63,64,85,83,75,77,98,79,85,76,91,89,57,74,86,86,49,93,89,82,92,14,19,73,70,35,78,71,27,26,85,89,72,97,65,87,20,78,93,73,79,70,45,90,75,97,68,82,77,70,89,61,38,60,39,96,67,71,90,82,93,96,61,69,75,95,85,83,50,82,76,56,88,62,92,68,91,87,95,75,52,58,77,62,72,92,48,80,23,53,48,94,94,87,74,51,83,89,79,98,58,84,79,73,68,62,51,69,65,73,68,61,71,87,85,100,79,45,80,86,94,95,90,65,38,93,91,92,72,87,80,87,13,80,58,64,89,99,95,86,73,75,87,85,93,94,91,93,92,56,65,85,52,67,88,68,91,87,82,84,84,72,70,53,71,81,44,75,79,69,92,45,63,75,91,79,51,75,71,49,52,55,67,51,88,77,69,91,77,93,91,98,95,90,47,54,95,100,100,52,44,93,16,50,88,53,92,9,94,97,67,43,93,75,68,96,88,69,95,84,86,81,61,95,99,85,58,80,82,19,80,85,74,54,61,31,63,100,80,63,56,65,72,51,86,62,92,63,84,33,95,55,78,57,77,43,81,90,87,78,49,93,85,35,78,79,67,39,83,82,97,92,100,86,53,97,77,99,80,99,80,85,64,90,38,20,56,64,74,80,30,39,100,76,12,97,84,57,77,78,69,97,69,75,94,88,33,72,69,69,45,70,95,81,80,71,89,45,94,71,73,62,96,100,52,46,90,56,88,35,34,49,67,97,70,82,96,93,71,79,93,85,69,24,65,90,50,76,79,58,65,82,84,69,87,94,43,71,91,96,59,97,86,78,70,87,76,87,80,94,85,80,91,14,71,65,71,91,89,67,38,27,100,79,73,95,70,76,85,65,76,58,98,69],\"Lat\":{\"__ndarray__\":\"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\",\"dtype\":\"float64\",\"order\":\"little\",\"shape\":[587]},\"Lng\":{\"__ndarray__\":\"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\",\"dtype\":\"float64\",\"order\":\"little\",\"shape\":[587]},\"color\":[\"salalah\",\"rikitea\",\"mlonggo\",\"taltal\",\"sola\",\"sitka\",\"mahebourg\",\"luderitz\",\"punta arenas\",\"mataura\",\"steinbach\",\"arys\",\"arraial do cabo\",\"pankrushikha\",\"new norfolk\",\"leh\",\"bluff\",\"lorengau\",\"ushuaia\",\"santa cruz\",\"necochea\",\"georgetown\",\"dedza\",\"ribas do rio pardo\",\"killin\",\"honiara\",\"hofn\",\"tuktoyaktuk\",\"chokurdakh\",\"madikeri\",\"qaanaaq\",\"mehamn\",\"cabra\",\"puerto ayora\",\"san andres\",\"nanortalik\",\"bredasdorp\",\"avarua\",\"hermanus\",\"garowe\",\"yellowknife\",\"garissa\",\"cape town\",\"atar\",\"kapaa\",\"durazno\",\"guerrero negro\",\"suntar\",\"puerto leguizamo\",\"hobart\",\"barrow\",\"saskylakh\",\"lompoc\",\"paithan\",\"tiksi\",\"butaritari\",\"souillac\",\"port alfred\",\"vaini\",\"husavik\",\"coihaique\",\"port-gentil\",\"taoudenni\",\"alofi\",\"longyearbyen\",\"agucadoura\",\"amga\",\"saldanha\",\"alice springs\",\"lebu\",\"cairns\",\"comodoro rivadavia\",\"atuona\",\"budesti\",\"aklavik\",\"shimoda\",\"katsuura\",\"batemans bay\",\"kamina\",\"berdigestyakh\",\"iqaluit\",\"nikolskoye\",\"tutoia\",\"jati\",\"lakatoro\",\"tuatapere\",\"jamestown\",\"bubaque\",\"nouakchott\",\"lecce\",\"tautira\",\"quatre cocos\",\"taganak\",\"waarschoot\",\"beringovskiy\",\"ihosy\",\"pali\",\"thompson\",\"castro\",\"lianran\",\"mar del plata\",\"jaque\",\"pevek\",\"hohhot\",\"nouadhibou\",\"carnarvon\",\"saint george\",\"busselton\",\"sydney\",\"derby\",\"la asuncion\",\"abu dhabi\",\"iquique\",\"bilibino\",\"yulara\",\"bakchar\",\"grindavik\",\"qaqortoq\",\"obo\",\"albanel\",\"mildura\",\"san luis\",\"karratha\",\"ray\",\"albany\",\"sorland\",\"unity\",\"ulaangom\",\"hasaki\",\"dargaville\",\"ribeira grande\",\"zhuhai\",\"jalu\",\"fortuna\",\"tasiilaq\",\"bethel\",\"cabo san lucas\",\"petatlan\",\"saint-philippe\",\"ancud\",\"kambove\",\"hithadhoo\",\"chicama\",\"cam ranh\",\"faya\",\"kungurtug\",\"sur\",\"bandarbeyla\",\"tadine\",\"yadgir\",\"iralaya\",\"upernavik\",\"huarmey\",\"pochutla\",\"ellensburg\",\"kargil\",\"cayenne\",\"cacoal\",\"razdolinsk\",\"dikson\",\"nome\",\"grand gaube\",\"pisco\",\"lagoa\",\"severo-kurilsk\",\"khatanga\",\"nha trang\",\"talnakh\",\"acurenam\",\"belaya gora\",\"atasu\",\"floro\",\"ahipara\",\"port lincoln\",\"eydhafushi\",\"olafsvik\",\"beian\",\"mendi\",\"wasilla\",\"qandala\",\"qasigiannguit\",\"nelson bay\",\"naze\",\"carauari\",\"teya\",\"praia\",\"saint-georges\",\"gat\",\"mount gambier\",\"ginir\",\"panzhihua\",\"kruisfontein\",\"miandrivazo\",\"chuy\",\"itoman\",\"ampanihy\",\"tunceli\",\"ponta do sol\",\"port keats\",\"asau\",\"nantucket\",\"pangnirtung\",\"ranau\",\"pemangkat\",\"magione\",\"mount isa\",\"hilo\",\"east london\",\"magadan\",\"illapel\",\"ornskoldsvik\",\"palembang\",\"san patricio\",\"portland\",\"dutse\",\"khartoum\",\"bhadrak\",\"morant bay\",\"sonoita\",\"matagami\",\"victor harbor\",\"hami\",\"leeton\",\"lappeenranta\",\"caravelas\",\"pitimbu\",\"egvekinot\",\"playa vicente\",\"peniche\",\"raga\",\"valdivia\",\"vilyuysk\",\"sabang\",\"kavieng\",\"vostok\",\"sukumo\",\"hargeysa\",\"anadyr\",\"sandnessjoen\",\"wagar\",\"meulaboh\",\"berezovyy\",\"sakaiminato\",\"komsomolskoye\",\"muros\",\"mae ramat\",\"shiyan\",\"bhawanigarh\",\"sakyla\",\"torbay\",\"provideniya\",\"kincardine\",\"alabat\",\"iracoubo\",\"pimenta bueno\",\"palmer\",\"talara\",\"luganville\",\"deputatskiy\",\"beroroha\",\"brae\",\"uhlove\",\"westport\",\"marakkanam\",\"victoria\",\"lavrentiya\",\"hauterive\",\"mana\",\"clyde river\",\"chinhoyi\",\"ekhabi\",\"linhares\",\"great yarmouth\",\"haines junction\",\"khakhea\",\"koumac\",\"esperance\",\"zacualpan\",\"matai\",\"ichinoseki\",\"marfino\",\"sabha\",\"damavand\",\"kodiak\",\"ust-kuyga\",\"springdale\",\"elbistan\",\"tecoanapa\",\"escarcega\",\"narsaq\",\"gondanglegi\",\"nikolayevsk-na-amure\",\"rodrigues alves\",\"hovd\",\"bingol\",\"alihe\",\"trincomalee\",\"praya\",\"yeppoon\",\"te anau\",\"biak\",\"nishihara\",\"alpena\",\"pionerskiy\",\"kaitangata\",\"kavaratti\",\"muisne\",\"takoradi\",\"iskateley\",\"bacolod\",\"bardiyah\",\"cidreira\",\"vanimo\",\"bambous virieux\",\"pidhorodne\",\"richards bay\",\"hambantota\",\"nizwa\",\"ambo\",\"hampton\",\"havelock\",\"newcastle\",\"santa cruz de tenerife\",\"touros\",\"cherskiy\",\"funtua\",\"portsmouth\",\"bembereke\",\"marawi\",\"kirensk\",\"la suiza\",\"zhigansk\",\"valleyview\",\"bodden town\",\"acapulco\",\"vila velha\",\"axim\",\"roald\",\"coquimbo\",\"chernyshevskiy\",\"wewak\",\"orichi\",\"hirara\",\"kiunga\",\"lamu\",\"khipro\",\"faanui\",\"morki\",\"cockburn town\",\"itarema\",\"harper\",\"calbuco\",\"artyom\",\"juneau\",\"balkhash\",\"katherine\",\"constitucion\",\"kurilsk\",\"berlevag\",\"tabas\",\"sipe sipe\",\"santo tomas\",\"oksbol\",\"port elizabeth\",\"de aar\",\"fairview\",\"san antonio\",\"paracuru\",\"goderich\",\"windsor\",\"bosaso\",\"sidney\",\"hirado\",\"turbat\",\"port macquarie\",\"buala\",\"san carlos de bariloche\",\"walvis bay\",\"thinadhoo\",\"codrington\",\"atikokan\",\"puerto varas\",\"verkhnevilyuysk\",\"saint-augustin\",\"kindu\",\"severo-yeniseyskiy\",\"beberibe\",\"ishinomaki\",\"lichuan\",\"privodino\",\"staryy nadym\",\"krasnoselkup\",\"xiaoweizhai\",\"hit\",\"flin flon\",\"geraldton\",\"tongzi\",\"bonthe\",\"saint anthony\",\"farafangana\",\"raudeberg\",\"lata\",\"ostrovnoy\",\"rudsar\",\"korla\",\"mongu\",\"sorong\",\"grootfontein\",\"mazagao\",\"kaeo\",\"sawakin\",\"gryazovets\",\"marienburg\",\"vardo\",\"skoghall\",\"katyr-yurt\",\"beloha\",\"peresichna\",\"jibuti\",\"byron bay\",\"sao jose da coroa grande\",\"canaries\",\"kankan\",\"antofagasta\",\"bengkulu\",\"norsup\",\"beyneu\",\"ranong\",\"dalby\",\"jiexiu\",\"novyy urengoy\",\"fayaoue\",\"jilin\",\"luyang\",\"healesville\",\"nuuk\",\"ilulissat\",\"los llanos de aridane\",\"colac\",\"port maria\",\"bay roberts\",\"san anselmo\",\"santiago\",\"disna\",\"port hedland\",\"pierre\",\"fukue\",\"rio gallegos\",\"abu kamal\",\"estelle\",\"leningradskiy\",\"atkinson\",\"bathsheba\",\"el doncello\",\"komsomolskiy\",\"norman wells\",\"zhoucheng\",\"zhezkazgan\",\"kupang\",\"padang\",\"sakakah\",\"babylon\",\"novoilinsk\",\"tambopata\",\"inhambane\",\"lamar\",\"pemberton\",\"yumen\",\"amarante do maranhao\",\"kokopo\",\"chapais\",\"ketchikan\",\"novopokrovka\",\"northam\",\"glabbeek\",\"sibolga\",\"sevierville\",\"jinxi\",\"batangafo\",\"baruun-urt\",\"masyaf\",\"bom jesus\",\"santa catalina\",\"trelew\",\"shingu\",\"port hardy\",\"salinas\",\"kidal\",\"manoel urbano\",\"taman\",\"xining\",\"hoshcha\",\"les cayes\",\"shurob\",\"igra\",\"soma\",\"lasa\",\"sars\",\"maceio\",\"pokhara\",\"poya\",\"binghamton\",\"saint austell\",\"dom pedrito\",\"wladyslawowo\",\"sedalia\",\"dingle\",\"svetlogorsk\",\"amberley\",\"rio branco\",\"meadow lake\",\"kazachinskoye\",\"machiques\",\"miramar\",\"tsumeb\",\"alta floresta\",\"aksarka\",\"jumla\",\"lengshuijiang\",\"tabou\",\"kahuta\",\"karabash\",\"rawson\",\"port pirie\",\"veraval\",\"madang\",\"floresti\",\"poronaysk\",\"arkhara\",\"ferme-neuve\",\"gospic\",\"flinders\",\"paita\",\"kodinsk\",\"makinsk\",\"ahuimanu\",\"tura\",\"boda\",\"coxim\",\"union\",\"isangel\",\"pouebo\",\"port moresby\",\"ortega\",\"pacific grove\",\"ayagoz\",\"prince rupert\",\"tromso\",\"mananara\",\"nakamura\",\"moose factory\",\"xai-xai\",\"blackfoot\",\"christchurch\",\"toora-khem\",\"fort nelson\",\"indianola\",\"labuan\",\"pervomayskoye\",\"aktash\",\"bongandanga\",\"sept-iles\",\"zyryanskoye\",\"tahe\",\"airai\",\"evensk\",\"chihuahua\",\"namatanai\",\"kudahuvadhoo\",\"pafos\",\"malamig\",\"scarborough\",\"hervey bay\",\"beipiao\",\"guadalajara\",\"ust-tsilma\",\"along\",\"palu\",\"novikovo\",\"sao filipe\",\"freeport\",\"kapuskasing\",\"pimentel\",\"horsham\",\"yangjiang\",\"santa isabel do rio negro\",\"olinda\"],\"size\":{\"__ndarray__\":\"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\",\"dtype\":\"float64\",\"order\":\"little\",\"shape\":[587]}},\"selected\":{\"id\":\"1218\"},\"selection_policy\":{\"id\":\"1230\"}},\"id\":\"1217\",\"type\":\"ColumnDataSource\"},{\"attributes\":{\"match_aspect\":true,\"overlay\":{\"id\":\"1175\"}},\"id\":\"1173\",\"type\":\"BoxZoomTool\"},{\"attributes\":{\"end\":22954407.822650887,\"min_interval\":5,\"reset_end\":22954407.822650887,\"reset_start\":-22937709.8990319,\"start\":-22937709.8990319,\"tags\":[[[\"Lng\",\"Lng\",null]]]},\"id\":\"1146\",\"type\":\"Range1d\"},{\"attributes\":{\"dimension\":\"lat\"},\"id\":\"1188\",\"type\":\"MercatorTickFormatter\"},{\"attributes\":{\"dimension\":\"lon\"},\"id\":\"1185\",\"type\":\"MercatorTicker\"},{\"attributes\":{\"factors\":[\"salalah\",\"rikitea\",\"mlonggo\",\"taltal\",\"sola\",\"sitka\",\"mahebourg\",\"luderitz\",\"punta arenas\",\"mataura\",\"steinbach\",\"arys\",\"arraial do cabo\",\"pankrushikha\",\"new norfolk\",\"leh\",\"bluff\",\"lorengau\",\"ushuaia\",\"santa cruz\",\"necochea\",\"georgetown\",\"dedza\",\"ribas do rio pardo\",\"killin\",\"honiara\",\"hofn\",\"tuktoyaktuk\",\"chokurdakh\",\"madikeri\",\"qaanaaq\",\"mehamn\",\"cabra\",\"puerto ayora\",\"san andres\",\"nanortalik\",\"bredasdorp\",\"avarua\",\"hermanus\",\"garowe\",\"yellowknife\",\"garissa\",\"cape town\",\"atar\",\"kapaa\",\"durazno\",\"guerrero negro\",\"suntar\",\"puerto leguizamo\",\"hobart\",\"barrow\",\"saskylakh\",\"lompoc\",\"paithan\",\"tiksi\",\"butaritari\",\"souillac\",\"port alfred\",\"vaini\",\"husavik\",\"coihaique\",\"port-gentil\",\"taoudenni\",\"alofi\",\"longyearbyen\",\"agucadoura\",\"amga\",\"saldanha\",\"alice springs\",\"lebu\",\"cairns\",\"comodoro rivadavia\",\"atuona\",\"budesti\",\"aklavik\",\"shimoda\",\"katsuura\",\"batemans bay\",\"kamina\",\"berdigestyakh\",\"iqaluit\",\"nikolskoye\",\"tutoia\",\"jati\",\"lakatoro\",\"tuatapere\",\"jamestown\",\"bubaque\",\"nouakchott\",\"lecce\",\"tautira\",\"quatre cocos\",\"taganak\",\"waarschoot\",\"beringovskiy\",\"ihosy\",\"pali\",\"thompson\",\"castro\",\"lianran\",\"mar del plata\",\"jaque\",\"pevek\",\"hohhot\",\"nouadhibou\",\"carnarvon\",\"saint george\",\"busselton\",\"sydney\",\"derby\",\"la asuncion\",\"abu dhabi\",\"iquique\",\"bilibino\",\"yulara\",\"bakchar\",\"grindavik\",\"qaqortoq\",\"obo\",\"albanel\",\"mildura\",\"san luis\",\"karratha\",\"ray\",\"albany\",\"sorland\",\"unity\",\"ulaangom\",\"hasaki\",\"dargaville\",\"ribeira grande\",\"zhuhai\",\"jalu\",\"fortuna\",\"tasiilaq\",\"bethel\",\"cabo san lucas\",\"petatlan\",\"saint-philippe\",\"ancud\",\"kambove\",\"hithadhoo\",\"chicama\",\"cam ranh\",\"faya\",\"kungurtug\",\"sur\",\"bandarbeyla\",\"tadine\",\"yadgir\",\"iralaya\",\"upernavik\",\"huarmey\",\"pochutla\",\"ellensburg\",\"kargil\",\"cayenne\",\"cacoal\",\"razdolinsk\",\"dikson\",\"nome\",\"grand gaube\",\"pisco\",\"lagoa\",\"severo-kurilsk\",\"khatanga\",\"nha trang\",\"talnakh\",\"acurenam\",\"belaya gora\",\"atasu\",\"floro\",\"ahipara\",\"port lincoln\",\"eydhafushi\",\"olafsvik\",\"beian\",\"mendi\",\"wasilla\",\"qandala\",\"qasigiannguit\",\"nelson bay\",\"naze\",\"carauari\",\"teya\",\"praia\",\"saint-georges\",\"gat\",\"mount gambier\",\"ginir\",\"panzhihua\",\"kruisfontein\",\"miandrivazo\",\"chuy\",\"itoman\",\"ampanihy\",\"tunceli\",\"ponta do sol\",\"port keats\",\"asau\",\"nantucket\",\"pangnirtung\",\"ranau\",\"pemangkat\",\"magione\",\"mount isa\",\"hilo\",\"east london\",\"magadan\",\"illapel\",\"ornskoldsvik\",\"palembang\",\"san patricio\",\"portland\",\"dutse\",\"khartoum\",\"bhadrak\",\"morant bay\",\"sonoita\",\"matagami\",\"victor harbor\",\"hami\",\"leeton\",\"lappeenranta\",\"caravelas\",\"pitimbu\",\"egvekinot\",\"playa vicente\",\"peniche\",\"raga\",\"valdivia\",\"vilyuysk\",\"sabang\",\"kavieng\",\"vostok\",\"sukumo\",\"hargeysa\",\"anadyr\",\"sandnessjoen\",\"wagar\",\"meulaboh\",\"berezovyy\",\"sakaiminato\",\"komsomolskoye\",\"muros\",\"mae ramat\",\"shiyan\",\"bhawanigarh\",\"sakyla\",\"torbay\",\"provideniya\",\"kincardine\",\"alabat\",\"iracoubo\",\"pimenta bueno\",\"palmer\",\"talara\",\"luganville\",\"deputatskiy\",\"beroroha\",\"brae\",\"uhlove\",\"westport\",\"marakkanam\",\"victoria\",\"lavrentiya\",\"hauterive\",\"mana\",\"clyde river\",\"chinhoyi\",\"ekhabi\",\"linhares\",\"great yarmouth\",\"haines junction\",\"khakhea\",\"koumac\",\"esperance\",\"zacualpan\",\"matai\",\"ichinoseki\",\"marfino\",\"sabha\",\"damavand\",\"kodiak\",\"ust-kuyga\",\"springdale\",\"elbistan\",\"tecoanapa\",\"escarcega\",\"narsaq\",\"gondanglegi\",\"nikolayevsk-na-amure\",\"rodrigues alves\",\"hovd\",\"bingol\",\"alihe\",\"trincomalee\",\"praya\",\"yeppoon\",\"te anau\",\"biak\",\"nishihara\",\"alpena\",\"pionerskiy\",\"kaitangata\",\"kavaratti\",\"muisne\",\"takoradi\",\"iskateley\",\"bacolod\",\"bardiyah\",\"cidreira\",\"vanimo\",\"bambous virieux\",\"pidhorodne\",\"richards bay\",\"hambantota\",\"nizwa\",\"ambo\",\"hampton\",\"havelock\",\"newcastle\",\"santa cruz de tenerife\",\"touros\",\"cherskiy\",\"funtua\",\"portsmouth\",\"bembereke\",\"marawi\",\"kirensk\",\"la suiza\",\"zhigansk\",\"valleyview\",\"bodden town\",\"acapulco\",\"vila velha\",\"axim\",\"roald\",\"coquimbo\",\"chernyshevskiy\",\"wewak\",\"orichi\",\"hirara\",\"kiunga\",\"lamu\",\"khipro\",\"faanui\",\"morki\",\"cockburn town\",\"itarema\",\"harper\",\"calbuco\",\"artyom\",\"juneau\",\"balkhash\",\"katherine\",\"constitucion\",\"kurilsk\",\"berlevag\",\"tabas\",\"sipe sipe\",\"santo tomas\",\"oksbol\",\"port elizabeth\",\"de aar\",\"fairview\",\"san antonio\",\"paracuru\",\"goderich\",\"windsor\",\"bosaso\",\"sidney\",\"hirado\",\"turbat\",\"port macquarie\",\"buala\",\"san carlos de bariloche\",\"walvis bay\",\"thinadhoo\",\"codrington\",\"atikokan\",\"puerto varas\",\"verkhnevilyuysk\",\"saint-augustin\",\"kindu\",\"severo-yeniseyskiy\",\"beberibe\",\"ishinomaki\",\"lichuan\",\"privodino\",\"staryy nadym\",\"krasnoselkup\",\"xiaoweizhai\",\"hit\",\"flin flon\",\"geraldton\",\"tongzi\",\"bonthe\",\"saint anthony\",\"farafangana\",\"raudeberg\",\"lata\",\"ostrovnoy\",\"rudsar\",\"korla\",\"mongu\",\"sorong\",\"grootfontein\",\"mazagao\",\"kaeo\",\"sawakin\",\"gryazovets\",\"marienburg\",\"vardo\",\"skoghall\",\"katyr-yurt\",\"beloha\",\"peresichna\",\"jibuti\",\"byron bay\",\"sao jose da coroa grande\",\"canaries\",\"kankan\",\"antofagasta\",\"bengkulu\",\"norsup\",\"beyneu\",\"ranong\",\"dalby\",\"jiexiu\",\"novyy urengoy\",\"fayaoue\",\"jilin\",\"luyang\",\"healesville\",\"nuuk\",\"ilulissat\",\"los llanos de aridane\",\"colac\",\"port maria\",\"bay roberts\",\"san anselmo\",\"santiago\",\"disna\",\"port hedland\",\"pierre\",\"fukue\",\"rio gallegos\",\"abu kamal\",\"estelle\",\"leningradskiy\",\"atkinson\",\"bathsheba\",\"el doncello\",\"komsomolskiy\",\"norman wells\",\"zhoucheng\",\"zhezkazgan\",\"kupang\",\"padang\",\"sakakah\",\"babylon\",\"novoilinsk\",\"tambopata\",\"inhambane\",\"lamar\",\"pemberton\",\"yumen\",\"amarante do maranhao\",\"kokopo\",\"chapais\",\"ketchikan\",\"novopokrovka\",\"northam\",\"glabbeek\",\"sibolga\",\"sevierville\",\"jinxi\",\"batangafo\",\"baruun-urt\",\"masyaf\",\"bom jesus\",\"santa catalina\",\"trelew\",\"shingu\",\"port hardy\",\"salinas\",\"kidal\",\"manoel urbano\",\"taman\",\"xining\",\"hoshcha\",\"les cayes\",\"shurob\",\"igra\",\"soma\",\"lasa\",\"sars\",\"maceio\",\"pokhara\",\"poya\",\"binghamton\",\"saint austell\",\"dom pedrito\",\"wladyslawowo\",\"sedalia\",\"dingle\",\"svetlogorsk\",\"amberley\",\"rio branco\",\"meadow lake\",\"kazachinskoye\",\"machiques\",\"miramar\",\"tsumeb\",\"alta floresta\",\"aksarka\",\"jumla\",\"lengshuijiang\",\"tabou\",\"kahuta\",\"karabash\",\"rawson\",\"port pirie\",\"veraval\",\"madang\",\"floresti\",\"poronaysk\",\"arkhara\",\"ferme-neuve\",\"gospic\",\"flinders\",\"paita\",\"kodinsk\",\"makinsk\",\"ahuimanu\",\"tura\",\"boda\",\"coxim\",\"union\",\"isangel\",\"pouebo\",\"port moresby\",\"ortega\",\"pacific grove\",\"ayagoz\",\"prince rupert\",\"tromso\",\"mananara\",\"nakamura\",\"moose factory\",\"xai-xai\",\"blackfoot\",\"christchurch\",\"toora-khem\",\"fort nelson\",\"indianola\",\"labuan\",\"pervomayskoye\",\"aktash\",\"bongandanga\",\"sept-iles\",\"zyryanskoye\",\"tahe\",\"airai\",\"evensk\",\"chihuahua\",\"namatanai\",\"kudahuvadhoo\",\"pafos\",\"malamig\",\"scarborough\",\"hervey bay\",\"beipiao\",\"guadalajara\",\"ust-tsilma\",\"along\",\"palu\",\"novikovo\",\"sao filipe\",\"freeport\",\"kapuskasing\",\"pimentel\",\"horsham\",\"yangjiang\",\"santa isabel do rio negro\",\"olinda\"],\"palette\":[\"#1f77b3\",\"#ff7e0e\",\"#2ba02b\",\"#d62628\",\"#9367bc\",\"#8c564b\",\"#e277c1\",\"#7e7e7e\",\"#bcbc21\",\"#16bdcf\",\"#3a0182\",\"#004201\",\"#0fffa8\",\"#5d003f\",\"#bcbcff\",\"#d8afa1\",\"#b80080\",\"#004d52\",\"#6b6400\",\"#7c0100\",\"#6026ff\",\"#ffff9a\",\"#564964\",\"#8cb893\",\"#93fbff\",\"#018267\",\"#90ff00\",\"#8200a0\",\"#ac8944\",\"#5b3400\",\"#ffbff2\",\"#ff6e75\",\"#798cff\",\"#dd00ff\",\"#505646\",\"#004489\",\"#ffbf60\",\"#ff018c\",\"#bdc8cf\",\"#af97b5\",\"#b65600\",\"#017000\",\"#cd87ff\",\"#1cd646\",\"#bfebc3\",\"#7997b5\",\"#a56089\",\"#6e8956\",\"#bc7c75\",\"#8a2844\",\"#00acff\",\"#8ed4ff\",\"#4b6d77\",\"#00d4b1\",\"#9300f2\",\"#8a9500\",\"#5d5b9e\",\"#fddfba\",\"#00939e\",\"#ffdb00\",\"#00aa79\",\"#520067\",\"#000091\",\"#0a5d3d\",\"#a5e275\",\"#623b41\",\"#c6c689\",\"#ff9eb5\",\"#cd4f6b\",\"#ff07d6\",\"#8a3a05\",\"#7e3d70\",\"#ff4901\",\"#602ba5\",\"#1c00ff\",\"#e6dfff\",\"#aa3baf\",\"#d89c00\",\"#a3a39e\",\"#3f69ff\",\"#46490c\",\"#7b6985\",\"#6b978c\",\"#ff9a75\",\"#835bff\",\"#7c6b46\",\"#80b654\",\"#bc0049\",\"#fd93ff\",\"#5d0018\",\"#89d1d1\",\"#9c8cd3\",\"#da6d42\",\"#8a5700\",\"#3b5069\",\"#4b6b3b\",\"#edcfd8\",\"#cfedff\",\"#aa1500\",\"#dfff4f\",\"#ff2a56\",\"#d1499e\",\"#707cb8\",\"#598000\",\"#00e4fd\",\"#774b95\",\"#67d48c\",\"#3d3a72\",\"#ac413f\",\"#d6a166\",\"#c169cd\",\"#69595d\",\"#87aced\",\"#a0a569\",\"#d1aae6\",\"#870062\",\"#00fddb\",\"#672818\",\"#b342ff\",\"#0e59c4\",\"#168742\",\"#90d300\",\"#cd7900\",\"#f959ff\",\"#5b7466\",\"#8eaeb3\",\"#9c7c8c\",\"#4600c6\",\"#6b4d2d\",\"#a56d46\",\"#9e8972\",\"#a8afca\",\"#cd8ca7\",\"#00fd64\",\"#917900\",\"#ff62a1\",\"#f4ffd8\",\"#018cf0\",\"#13aca0\",\"#5b2d59\",\"#89859e\",\"#cfccba\",\"#d4afc4\",\"#dbdd6d\",\"#cffff4\",\"#006485\",\"#006962\",\"#a84167\",\"#2d97c4\",\"#a874ff\",\"#26ba5d\",\"#57b600\",\"#caffa7\",\"#a379aa\",\"#ffbc93\",\"#89e2c1\",\"#0fc8ff\",\"#d400c4\",\"#626d89\",\"#69858e\",\"#4b4d52\",\"#aa6067\",\"#79b5d4\",\"#2b5916\",\"#9a0024\",\"#bdd1f2\",\"#896e67\",\"#69a56b\",\"#855467\",\"#aecdba\",\"#87997e\",\"#cadb00\",\"#9a0390\",\"#ebbc1a\",\"#eb9cd1\",\"#70006e\",\"#b1a131\",\"#ca6b93\",\"#4146a3\",\"#e48c89\",\"#d44400\",\"#c68aca\",\"#b69597\",\"#d41f75\",\"#724bcc\",\"#674d00\",\"#672138\",\"#38564f\",\"#6ebaaa\",\"#853a31\",\"#a5d397\",\"#b8af8e\",\"#d8e4df\",\"#aa00df\",\"#cac1db\",\"#ffdf8c\",\"#e2524d\",\"#66696e\",\"#ff001c\",\"#522d72\",\"#4d906b\",\"#a86d11\",\"#ff9e26\",\"#5ea3af\",\"#c88556\",\"#915997\",\"#a3a1ff\",\"#fdbaba\",\"#242a87\",\"#dbe6a8\",\"#97f2a7\",\"#6793d6\",\"#ba5b3f\",\"#3a5d91\",\"#364f2f\",\"#267c95\",\"#89959a\",\"#cfb356\",\"#004664\",\"#5e5d2f\",\"#8e8e41\",\"#ac3f13\",\"#69953b\",\"#a13d85\",\"#bfb6ba\",\"#acc667\",\"#6469cf\",\"#91af00\",\"#2be2da\",\"#016e36\",\"#ff7952\",\"#42807e\",\"#4fe800\",\"#995428\",\"#5d0a00\",\"#a30057\",\"#0c8700\",\"#5982a7\",\"#ffebfb\",\"#4b6901\",\"#8775d4\",\"#e6c6ff\",\"#a5ffda\",\"#d86e77\",\"#df014b\",\"#69675b\",\"#776ba1\",\"#7e8067\",\"#594685\",\"#0000ca\",\"#7c002a\",\"#97ff72\",\"#b5e2e1\",\"#db52c8\",\"#777734\",\"#57bd8e\",\"#1f77b3\",\"#ff7e0e\",\"#2ba02b\",\"#d62628\",\"#9367bc\",\"#8c564b\",\"#e277c1\",\"#7e7e7e\",\"#bcbc21\",\"#16bdcf\",\"#3a0182\",\"#004201\",\"#0fffa8\",\"#5d003f\",\"#bcbcff\",\"#d8afa1\",\"#b80080\",\"#004d52\",\"#6b6400\",\"#7c0100\",\"#6026ff\",\"#ffff9a\",\"#564964\",\"#8cb893\",\"#93fbff\",\"#018267\",\"#90ff00\",\"#8200a0\",\"#ac8944\",\"#5b3400\",\"#ffbff2\",\"#ff6e75\",\"#798cff\",\"#dd00ff\",\"#505646\",\"#004489\",\"#ffbf60\",\"#ff018c\",\"#bdc8cf\",\"#af97b5\",\"#b65600\",\"#017000\",\"#cd87ff\",\"#1cd646\",\"#bfebc3\",\"#7997b5\",\"#a56089\",\"#6e8956\",\"#bc7c75\",\"#8a2844\",\"#00acff\",\"#8ed4ff\",\"#4b6d77\",\"#00d4b1\",\"#9300f2\",\"#8a9500\",\"#5d5b9e\",\"#fddfba\",\"#00939e\",\"#ffdb00\",\"#00aa79\",\"#520067\",\"#000091\",\"#0a5d3d\",\"#a5e275\",\"#623b41\",\"#c6c689\",\"#ff9eb5\",\"#cd4f6b\",\"#ff07d6\",\"#8a3a05\",\"#7e3d70\",\"#ff4901\",\"#602ba5\",\"#1c00ff\",\"#e6dfff\",\"#aa3baf\",\"#d89c00\",\"#a3a39e\",\"#3f69ff\",\"#46490c\",\"#7b6985\",\"#6b978c\",\"#ff9a75\",\"#835bff\",\"#7c6b46\",\"#80b654\",\"#bc0049\",\"#fd93ff\",\"#5d0018\",\"#89d1d1\",\"#9c8cd3\",\"#da6d42\",\"#8a5700\",\"#3b5069\",\"#4b6b3b\",\"#edcfd8\",\"#cfedff\",\"#aa1500\",\"#dfff4f\",\"#ff2a56\",\"#d1499e\",\"#707cb8\",\"#598000\",\"#00e4fd\",\"#774b95\",\"#67d48c\",\"#3d3a72\",\"#ac413f\",\"#d6a166\",\"#c169cd\",\"#69595d\",\"#87aced\",\"#a0a569\",\"#d1aae6\",\"#870062\",\"#00fddb\",\"#672818\",\"#b342ff\",\"#0e59c4\",\"#168742\",\"#90d300\",\"#cd7900\",\"#f959ff\",\"#5b7466\",\"#8eaeb3\",\"#9c7c8c\",\"#4600c6\",\"#6b4d2d\",\"#a56d46\",\"#9e8972\",\"#a8afca\",\"#cd8ca7\",\"#00fd64\",\"#917900\",\"#ff62a1\",\"#f4ffd8\",\"#018cf0\",\"#13aca0\",\"#5b2d59\",\"#89859e\",\"#cfccba\",\"#d4afc4\",\"#dbdd6d\",\"#cffff4\",\"#006485\",\"#006962\",\"#a84167\",\"#2d97c4\",\"#a874ff\",\"#26ba5d\",\"#57b600\",\"#caffa7\",\"#a379aa\",\"#ffbc93\",\"#89e2c1\",\"#0fc8ff\",\"#d400c4\",\"#626d89\",\"#69858e\",\"#4b4d52\",\"#aa6067\",\"#79b5d4\",\"#2b5916\",\"#9a0024\",\"#bdd1f2\",\"#896e67\",\"#69a56b\",\"#855467\",\"#aecdba\",\"#87997e\",\"#cadb00\",\"#9a0390\",\"#ebbc1a\",\"#eb9cd1\",\"#70006e\",\"#b1a131\",\"#ca6b93\",\"#4146a3\",\"#e48c89\",\"#d44400\",\"#c68aca\",\"#b69597\",\"#d41f75\",\"#724bcc\",\"#674d00\",\"#672138\",\"#38564f\",\"#6ebaaa\",\"#853a31\",\"#a5d397\",\"#b8af8e\",\"#d8e4df\",\"#aa00df\",\"#cac1db\",\"#ffdf8c\",\"#e2524d\",\"#66696e\",\"#ff001c\",\"#522d72\",\"#4d906b\",\"#a86d11\",\"#ff9e26\",\"#5ea3af\",\"#c88556\",\"#915997\",\"#a3a1ff\",\"#fdbaba\",\"#242a87\",\"#dbe6a8\",\"#97f2a7\",\"#6793d6\",\"#ba5b3f\",\"#3a5d91\",\"#364f2f\",\"#267c95\",\"#89959a\",\"#cfb356\",\"#004664\",\"#5e5d2f\",\"#8e8e41\",\"#ac3f13\",\"#69953b\",\"#a13d85\",\"#bfb6ba\",\"#acc667\",\"#6469cf\",\"#91af00\",\"#2be2da\",\"#016e36\",\"#ff7952\",\"#42807e\",\"#4fe800\",\"#995428\",\"#5d0a00\",\"#a30057\",\"#0c8700\",\"#5982a7\",\"#ffebfb\",\"#4b6901\",\"#8775d4\",\"#e6c6ff\",\"#a5ffda\",\"#d86e77\",\"#df014b\",\"#69675b\",\"#776ba1\",\"#7e8067\",\"#594685\",\"#0000ca\",\"#7c002a\",\"#97ff72\",\"#b5e2e1\",\"#db52c8\",\"#777734\",\"#57bd8e\",\"#1f77b3\",\"#ff7e0e\",\"#2ba02b\",\"#d62628\",\"#9367bc\",\"#8c564b\",\"#e277c1\",\"#7e7e7e\",\"#bcbc21\",\"#16bdcf\",\"#3a0182\",\"#004201\",\"#0fffa8\",\"#5d003f\",\"#bcbcff\",\"#d8afa1\",\"#b80080\",\"#004d52\",\"#6b6400\",\"#7c0100\",\"#6026ff\",\"#ffff9a\",\"#564964\",\"#8cb893\",\"#93fbff\",\"#018267\",\"#90ff00\",\"#8200a0\",\"#ac8944\",\"#5b3400\",\"#ffbff2\",\"#ff6e75\",\"#798cff\",\"#dd00ff\",\"#505646\",\"#004489\",\"#ffbf60\",\"#ff018c\",\"#bdc8cf\",\"#af97b5\",\"#b65600\",\"#017000\",\"#cd87ff\",\"#1cd646\",\"#bfebc3\",\"#7997b5\",\"#a56089\",\"#6e8956\",\"#bc7c75\",\"#8a2844\",\"#00acff\",\"#8ed4ff\",\"#4b6d77\",\"#00d4b1\",\"#9300f2\",\"#8a9500\",\"#5d5b9e\",\"#fddfba\",\"#00939e\",\"#ffdb00\",\"#00aa79\",\"#520067\",\"#000091\",\"#0a5d3d\",\"#a5e275\",\"#623b41\",\"#c6c689\",\"#ff9eb5\",\"#cd4f6b\",\"#ff07d6\",\"#8a3a05\",\"#7e3d70\",\"#ff4901\",\"#602ba5\",\"#1c00ff\"]},\"id\":\"1216\",\"type\":\"CategoricalColorMapper\"},{\"attributes\":{\"children\":[{\"id\":\"1153\"}],\"margin\":[0,0,0,0],\"name\":\"Row01683\",\"sizing_mode\":\"fixed\",\"tags\":[\"embedded\"]},\"id\":\"1141\",\"type\":\"Row\"},{\"attributes\":{},\"id\":\"1230\",\"type\":\"UnionRenderers\"},{\"attributes\":{},\"id\":\"1158\",\"type\":\"LinearScale\"},{\"attributes\":{\"coordinates\":null,\"data_source\":{\"id\":\"1217\"},\"glyph\":{\"id\":\"1220\"},\"group\":null,\"hover_glyph\":{\"id\":\"1223\"},\"muted_glyph\":{\"id\":\"1224\"},\"nonselection_glyph\":{\"id\":\"1221\"},\"selection_glyph\":{\"id\":\"1222\"},\"view\":{\"id\":\"1226\"}},\"id\":\"1225\",\"type\":\"GlyphRenderer\"},{\"attributes\":{\"end\":20791365.665228717,\"min_interval\":5,\"reset_end\":20791365.665228717,\"reset_start\":-13627722.626033371,\"start\":-13627722.626033371,\"tags\":[[[\"Lat\",\"Lat\",null]]]},\"id\":\"1147\",\"type\":\"Range1d\"},{\"attributes\":{\"coordinates\":null,\"group\":null,\"text\":\"Plot showing cities from city_data_df\",\"text_color\":\"black\",\"text_font_size\":\"12pt\"},\"id\":\"1154\",\"type\":\"Title\"},{\"attributes\":{\"active_drag\":{\"id\":\"1171\"},\"active_scroll\":{\"id\":\"1172\"},\"tools\":[{\"id\":\"1150\"},{\"id\":\"1170\"},{\"id\":\"1171\"},{\"id\":\"1172\"},{\"id\":\"1173\"},{\"id\":\"1174\"}]},\"id\":\"1176\",\"type\":\"Toolbar\"},{\"attributes\":{\"fill_alpha\":{\"value\":0.5},\"fill_color\":{\"field\":\"color\",\"transform\":{\"id\":\"1216\"}},\"hatch_color\":{\"field\":\"color\",\"transform\":{\"id\":\"1216\"}},\"line_color\":{\"field\":\"color\",\"transform\":{\"id\":\"1216\"}},\"size\":{\"field\":\"size\"},\"x\":{\"field\":\"Lng\"},\"y\":{\"field\":\"Lat\"}},\"id\":\"1220\",\"type\":\"Scatter\"},{\"attributes\":{\"axis\":{\"id\":\"1162\"},\"coordinates\":null,\"grid_line_color\":null,\"group\":null,\"ticker\":null},\"id\":\"1165\",\"type\":\"Grid\"}],\"root_ids\":[\"1141\"]},\"title\":\"Bokeh Application\",\"version\":\"2.4.3\"}};\n",
       "    var render_items = [{\"docid\":\"b258ed2f-c332-4533-bc81-b133b28dd432\",\"root_ids\":[\"1141\"],\"roots\":{\"1141\":\"b9d5fe70-3ece-4e27-988d-956504a776f0\"}}];\n",
       "    root.Bokeh.embed.embed_items_notebook(docs_json, render_items);\n",
       "    for (const render_item of render_items) {\n",
       "      for (const root_id of render_item.root_ids) {\n",
       "\tconst id_el = document.getElementById(root_id)\n",
       "\tif (id_el.children.length && (id_el.children[0].className === 'bk-root')) {\n",
       "\t  const root_el = id_el.children[0]\n",
       "\t  root_el.id = root_el.id + '-rendered'\n",
       "\t}\n",
       "      }\n",
       "    }\n",
       "  }\n",
       "  if (root.Bokeh !== undefined && root.Bokeh.Panel !== undefined) {\n",
       "    embed_document(root);\n",
       "  } else {\n",
       "    var attempts = 0;\n",
       "    var timer = setInterval(function(root) {\n",
       "      if (root.Bokeh !== undefined && root.Bokeh.Panel !== undefined) {\n",
       "        clearInterval(timer);\n",
       "        embed_document(root);\n",
       "      } else if (document.readyState == \"complete\") {\n",
       "        attempts++;\n",
       "        if (attempts > 200) {\n",
       "          clearInterval(timer);\n",
       "          console.log(\"Bokeh: ERROR: Unable to run BokehJS code because BokehJS library is missing\");\n",
       "        }\n",
       "      }\n",
       "    }, 25, root)\n",
       "  }\n",
       "})(window);</script>"
      ],
      "text/plain": [
       ":Overlay\n",
       "   .Tiles.I  :Tiles   [x,y]\n",
       "   .Points.I :Points   [Lng,Lat]   (City,Humidity)"
      ]
     },
     "execution_count": 14,
     "metadata": {
      "application/vnd.holoviews_exec.v0+json": {
       "id": "1141"
      }
     },
     "output_type": "execute_result"
    }
   ],
   "source": [
    "%%capture --no-display\n",
    "\n",
    "# Configure the map plot\n",
    "\n",
    "# YOUR CODE HERE\n",
    "map_plot_1 = city_data_df.hvplot.points(\n",
    "    \"Lng\",\n",
    "    \"Lat\",\n",
    "    geo = True,\n",
    "    tiles = \"OSM\",\n",
    "    frame_width = 400,\n",
    "    frame_height = 300,\n",
    "    size = \"Humidity\",\n",
    "    scale = 0.5,\n",
    "    color = \"City\",\n",
    "    fill_alpha = 0.5,\n",
    "    title = \"Plot showing cities from city_data_df\",\n",
    "    xlabel = \"Latitude\",\n",
    "    ylabel = \"Longitude\")\n",
    "# Display the map\n",
    "# YOUR CODE HERE\n",
    "map_plot_1"
   ]
  },
  {
   "cell_type": "markdown",
   "metadata": {},
   "source": [
    "### Step 2: Narrow down the `city_data_df` DataFrame to find your ideal weather condition"
   ]
  },
  {
   "cell_type": "code",
   "execution_count": 15,
   "metadata": {},
   "outputs": [
    {
     "data": {
      "text/html": [
       "<div>\n",
       "<style scoped>\n",
       "    .dataframe tbody tr th:only-of-type {\n",
       "        vertical-align: middle;\n",
       "    }\n",
       "\n",
       "    .dataframe tbody tr th {\n",
       "        vertical-align: top;\n",
       "    }\n",
       "\n",
       "    .dataframe thead th {\n",
       "        text-align: right;\n",
       "    }\n",
       "</style>\n",
       "<table border=\"1\" class=\"dataframe\">\n",
       "  <thead>\n",
       "    <tr style=\"text-align: right;\">\n",
       "      <th></th>\n",
       "      <th>City_ID</th>\n",
       "      <th>City</th>\n",
       "      <th>Lat</th>\n",
       "      <th>Lng</th>\n",
       "      <th>Max Temp</th>\n",
       "      <th>Humidity</th>\n",
       "      <th>Cloudiness</th>\n",
       "      <th>Wind Speed</th>\n",
       "      <th>Country</th>\n",
       "      <th>Date</th>\n",
       "    </tr>\n",
       "  </thead>\n",
       "  <tbody>\n",
       "  </tbody>\n",
       "</table>\n",
       "</div>"
      ],
      "text/plain": [
       "Empty DataFrame\n",
       "Columns: [City_ID, City, Lat, Lng, Max Temp, Humidity, Cloudiness, Wind Speed, Country, Date]\n",
       "Index: []"
      ]
     },
     "execution_count": 15,
     "metadata": {},
     "output_type": "execute_result"
    }
   ],
   "source": [
    "# Narrow down cities that fit criteria and drop any results with null values\n",
    "# YOUR CODE HERE\n",
    "temp_min = 15\n",
    "temp_max = 30\n",
    "win_speed_max = 8\n",
    "cloudiness_max = 40\n",
    "humidity_max = 60\n",
    "\n",
    "# Filter the city_data_df DataFrame for the ideal weather conditions\n",
    "ideal_cities_df = city_data_df.loc[(city_data_df[\"Max Temp\"] >= temp_min) &\n",
    "                                   (city_data_df[\"Max Temp\"] <= temp_max) &\n",
    "                                   (city_data_df[\"Wind Speed\"] <= win_speed_max) &\n",
    "                                   (city_data_df[\"Cloudiness\"] <= cloudiness_max) &\n",
    "                                   (city_data_df[\"Humidity\"] <= humidity_max)]\n",
    "\n",
    "# Drop any rows with null values\n",
    "# YOUR CODE HERE\n",
    "ideal_cities_df.dropna()\n",
    "# Display sample data\n",
    "# YOUR CODE HERE\n",
    "ideal_cities_df"
   ]
  },
  {
   "cell_type": "markdown",
   "metadata": {},
   "source": [
    "### Step 3: Create a new DataFrame called `hotel_df`."
   ]
  },
  {
   "cell_type": "code",
   "execution_count": 16,
   "metadata": {},
   "outputs": [
    {
     "data": {
      "text/html": [
       "<div>\n",
       "<style scoped>\n",
       "    .dataframe tbody tr th:only-of-type {\n",
       "        vertical-align: middle;\n",
       "    }\n",
       "\n",
       "    .dataframe tbody tr th {\n",
       "        vertical-align: top;\n",
       "    }\n",
       "\n",
       "    .dataframe thead th {\n",
       "        text-align: right;\n",
       "    }\n",
       "</style>\n",
       "<table border=\"1\" class=\"dataframe\">\n",
       "  <thead>\n",
       "    <tr style=\"text-align: right;\">\n",
       "      <th></th>\n",
       "      <th>City</th>\n",
       "      <th>Country</th>\n",
       "      <th>Lat</th>\n",
       "      <th>Lng</th>\n",
       "      <th>Humidity</th>\n",
       "      <th>Hotel Name</th>\n",
       "    </tr>\n",
       "  </thead>\n",
       "  <tbody>\n",
       "  </tbody>\n",
       "</table>\n",
       "</div>"
      ],
      "text/plain": [
       "Empty DataFrame\n",
       "Columns: [City, Country, Lat, Lng, Humidity, Hotel Name]\n",
       "Index: []"
      ]
     },
     "execution_count": 16,
     "metadata": {},
     "output_type": "execute_result"
    }
   ],
   "source": [
    "# Use the Pandas copy function to create DataFrame called hotel_df to store the city, country, coordinates, and humidity\n",
    "# YOUR CODE HERE\n",
    "hotel_df = ideal_cities_df[[\"City\", \"Country\", \"Lat\", \"Lng\", \"Humidity\"]].copy()\n",
    "# Add an empty column, \"Hotel Name,\" to the DataFrame so you can store the hotel found using the Geoapify API\n",
    "# YOUR CODE HERE\n",
    "hotel_df[\"Hotel Name\"] = \"\"\n",
    "# Display sample data\n",
    "# YOUR CODE HERE\n",
    "hotel_df"
   ]
  },
  {
   "cell_type": "markdown",
   "metadata": {},
   "source": [
    "### Step 4: For each city, use the Geoapify API to find the first hotel located within 10,000 metres of your coordinates."
   ]
  },
  {
   "cell_type": "code",
   "execution_count": 17,
   "metadata": {},
   "outputs": [
    {
     "name": "stdout",
     "output_type": "stream",
     "text": [
      "Starting hotel search\n"
     ]
    },
    {
     "data": {
      "text/html": [
       "<div>\n",
       "<style scoped>\n",
       "    .dataframe tbody tr th:only-of-type {\n",
       "        vertical-align: middle;\n",
       "    }\n",
       "\n",
       "    .dataframe tbody tr th {\n",
       "        vertical-align: top;\n",
       "    }\n",
       "\n",
       "    .dataframe thead th {\n",
       "        text-align: right;\n",
       "    }\n",
       "</style>\n",
       "<table border=\"1\" class=\"dataframe\">\n",
       "  <thead>\n",
       "    <tr style=\"text-align: right;\">\n",
       "      <th></th>\n",
       "      <th>City</th>\n",
       "      <th>Country</th>\n",
       "      <th>Lat</th>\n",
       "      <th>Lng</th>\n",
       "      <th>Humidity</th>\n",
       "      <th>Hotel Name</th>\n",
       "    </tr>\n",
       "  </thead>\n",
       "  <tbody>\n",
       "  </tbody>\n",
       "</table>\n",
       "</div>"
      ],
      "text/plain": [
       "Empty DataFrame\n",
       "Columns: [City, Country, Lat, Lng, Humidity, Hotel Name]\n",
       "Index: []"
      ]
     },
     "execution_count": 17,
     "metadata": {},
     "output_type": "execute_result"
    }
   ],
   "source": [
    "# Set parameters to search for a hotel\n",
    "radius = 10000\n",
    "\n",
    "category = \"accommodation.hotel\"\n",
    "params = {\n",
    "    \"categories\":category,\n",
    "    \"apiKey\":geoapify_key\n",
    "}\n",
    "\n",
    "# Print a message to follow up the hotel search\n",
    "print(\"Starting hotel search\")\n",
    "\n",
    "# Iterate through the hotel_df DataFrame\n",
    "for index, row in hotel_df.iterrows():\n",
    "    # get latitude, longitude from the DataFrame\n",
    "    # YOUR CODE HERE\n",
    "    latitude = hotel_df.loc[index, \"Lat\"]\n",
    "    longitude = hotel_df.loc[index, \"Lng\"]\n",
    "    # Add filter and bias parameters with the current city's latitude and longitude to the params dictionary\n",
    "    params[\"filter\"] = f\"circle:{longitude},{latitude},{radius}\"\n",
    "    params[\"bias\"] = f\"proximity:{longitude},{latitude}\"\n",
    "    \n",
    "    # Set base URL\n",
    "    base_url = \"https://api.geoapify.com/v2/places\"\n",
    "\n",
    "\n",
    "    # Make and API request using the params dictionaty\n",
    "    name_address = requests.get(base_url, params=params)\n",
    "    \n",
    "    # Convert the API response to JSON format\n",
    "    name_address_json = name_address.json()\n",
    "    \n",
    "    # Grab the first hotel from the results and store the name in the hotel_df DataFrame\n",
    "    try:\n",
    "        hotel_df.loc[index, \"Hotel Name\"] = name_address[\"features\"][0][\"properties\"][\"name\"]\n",
    "    except (KeyError, IndexError):\n",
    "        # If no hotel is found, set the hotel name as \"No hotel found\".\n",
    "        hotel_df.loc[index, \"Hotel Name\"] = \"No hotel found\"\n",
    "        \n",
    "    # Log the search results\n",
    "    print(f\"{hotel_df.loc[index, 'City']} - nearest hotel: {hotel_df.loc[index, 'Hotel Name']}\")\n",
    "\n",
    "# Display sample data\n",
    "hotel_df"
   ]
  },
  {
   "cell_type": "markdown",
   "metadata": {},
   "source": [
    "### Step 5: Add the hotel name and the country as additional information in the hover message for each city in the map."
   ]
  },
  {
   "cell_type": "code",
   "execution_count": 19,
   "metadata": {},
   "outputs": [
    {
     "data": {},
     "metadata": {},
     "output_type": "display_data"
    },
    {
     "data": {
      "application/vnd.holoviews_exec.v0+json": "",
      "text/html": [
       "<div id='1278'>\n",
       "  <div class=\"bk-root\" id=\"c2f37305-cde7-4244-aff4-b446e31127cb\" data-root-id=\"1278\"></div>\n",
       "</div>\n",
       "<script type=\"application/javascript\">(function(root) {\n",
       "  function embed_document(root) {\n",
       "    var docs_json = {\"b2012bef-4411-47b5-8961-c73951e2a294\":{\"defs\":[{\"extends\":null,\"module\":null,\"name\":\"ReactiveHTML1\",\"overrides\":[],\"properties\":[]},{\"extends\":null,\"module\":null,\"name\":\"FlexBox1\",\"overrides\":[],\"properties\":[{\"default\":\"flex-start\",\"kind\":null,\"name\":\"align_content\"},{\"default\":\"flex-start\",\"kind\":null,\"name\":\"align_items\"},{\"default\":\"row\",\"kind\":null,\"name\":\"flex_direction\"},{\"default\":\"wrap\",\"kind\":null,\"name\":\"flex_wrap\"},{\"default\":\"flex-start\",\"kind\":null,\"name\":\"justify_content\"}]},{\"extends\":null,\"module\":null,\"name\":\"GridStack1\",\"overrides\":[],\"properties\":[{\"default\":\"warn\",\"kind\":null,\"name\":\"mode\"},{\"default\":null,\"kind\":null,\"name\":\"ncols\"},{\"default\":null,\"kind\":null,\"name\":\"nrows\"},{\"default\":true,\"kind\":null,\"name\":\"allow_resize\"},{\"default\":true,\"kind\":null,\"name\":\"allow_drag\"},{\"default\":[],\"kind\":null,\"name\":\"state\"}]},{\"extends\":null,\"module\":null,\"name\":\"click1\",\"overrides\":[],\"properties\":[{\"default\":\"\",\"kind\":null,\"name\":\"terminal_output\"},{\"default\":\"\",\"kind\":null,\"name\":\"debug_name\"},{\"default\":0,\"kind\":null,\"name\":\"clears\"}]},{\"extends\":null,\"module\":null,\"name\":\"NotificationAreaBase1\",\"overrides\":[],\"properties\":[{\"default\":\"bottom-right\",\"kind\":null,\"name\":\"position\"},{\"default\":0,\"kind\":null,\"name\":\"_clear\"}]},{\"extends\":null,\"module\":null,\"name\":\"NotificationArea1\",\"overrides\":[],\"properties\":[{\"default\":[],\"kind\":null,\"name\":\"notifications\"},{\"default\":\"bottom-right\",\"kind\":null,\"name\":\"position\"},{\"default\":0,\"kind\":null,\"name\":\"_clear\"},{\"default\":[{\"background\":\"#ffc107\",\"icon\":{\"className\":\"fas fa-exclamation-triangle\",\"color\":\"white\",\"tagName\":\"i\"},\"type\":\"warning\"},{\"background\":\"#007bff\",\"icon\":{\"className\":\"fas fa-info-circle\",\"color\":\"white\",\"tagName\":\"i\"},\"type\":\"info\"}],\"kind\":null,\"name\":\"types\"}]},{\"extends\":null,\"module\":null,\"name\":\"Notification\",\"overrides\":[],\"properties\":[{\"default\":null,\"kind\":null,\"name\":\"background\"},{\"default\":3000,\"kind\":null,\"name\":\"duration\"},{\"default\":null,\"kind\":null,\"name\":\"icon\"},{\"default\":\"\",\"kind\":null,\"name\":\"message\"},{\"default\":null,\"kind\":null,\"name\":\"notification_type\"},{\"default\":false,\"kind\":null,\"name\":\"_destroyed\"}]},{\"extends\":null,\"module\":null,\"name\":\"TemplateActions1\",\"overrides\":[],\"properties\":[{\"default\":0,\"kind\":null,\"name\":\"open_modal\"},{\"default\":0,\"kind\":null,\"name\":\"close_modal\"}]},{\"extends\":null,\"module\":null,\"name\":\"MaterialTemplateActions1\",\"overrides\":[],\"properties\":[{\"default\":0,\"kind\":null,\"name\":\"open_modal\"},{\"default\":0,\"kind\":null,\"name\":\"close_modal\"}]}],\"roots\":{\"references\":[{\"attributes\":{},\"id\":\"1307\",\"type\":\"SaveTool\"},{\"attributes\":{\"dimension\":\"lat\"},\"id\":\"1324\",\"type\":\"MercatorTicker\"},{\"attributes\":{\"below\":[{\"id\":\"1299\"}],\"center\":[{\"id\":\"1302\"},{\"id\":\"1306\"}],\"frame_height\":300,\"frame_width\":400,\"height\":null,\"left\":[{\"id\":\"1303\"}],\"margin\":[5,5,5,5],\"match_aspect\":true,\"min_border_bottom\":10,\"min_border_left\":10,\"min_border_right\":10,\"min_border_top\":10,\"renderers\":[{\"id\":\"1351\"},{\"id\":\"1361\"}],\"sizing_mode\":\"fixed\",\"title\":{\"id\":\"1291\"},\"toolbar\":{\"id\":\"1313\"},\"width\":null,\"x_range\":{\"id\":\"1283\"},\"x_scale\":{\"id\":\"1295\"},\"y_range\":{\"id\":\"1284\"},\"y_scale\":{\"id\":\"1297\"}},\"id\":\"1290\",\"subtype\":\"Figure\",\"type\":\"Plot\"},{\"attributes\":{},\"id\":\"1308\",\"type\":\"PanTool\"},{\"attributes\":{},\"id\":\"1311\",\"type\":\"ResetTool\"},{\"attributes\":{},\"id\":\"1354\",\"type\":\"Selection\"},{\"attributes\":{\"coordinates\":null,\"data_source\":{\"id\":\"1353\"},\"glyph\":{\"id\":\"1356\"},\"group\":null,\"hover_glyph\":{\"id\":\"1359\"},\"muted_glyph\":{\"id\":\"1360\"},\"nonselection_glyph\":{\"id\":\"1357\"},\"selection_glyph\":{\"id\":\"1358\"},\"view\":{\"id\":\"1362\"}},\"id\":\"1361\",\"type\":\"GlyphRenderer\"},{\"attributes\":{\"fill_alpha\":{\"value\":0.5},\"fill_color\":{\"field\":\"color\"},\"hatch_color\":{\"field\":\"color\"},\"line_color\":{\"field\":\"color\"},\"size\":{\"field\":\"size\"},\"x\":{\"field\":\"Lng\"},\"y\":{\"field\":\"Lat\"}},\"id\":\"1356\",\"type\":\"Scatter\"},{\"attributes\":{\"zoom_on_axis\":false},\"id\":\"1309\",\"type\":\"WheelZoomTool\"},{\"attributes\":{\"fill_alpha\":{\"value\":0.5},\"fill_color\":{\"field\":\"color\"},\"hatch_alpha\":{\"value\":0.1},\"hatch_color\":{\"field\":\"color\"},\"line_alpha\":{\"value\":0.1},\"line_color\":{\"field\":\"color\"},\"size\":{\"field\":\"size\"},\"x\":{\"field\":\"Lng\"},\"y\":{\"field\":\"Lat\"}},\"id\":\"1357\",\"type\":\"Scatter\"},{\"attributes\":{\"code\":\"\\n        var projections = Bokeh.require(\\\"core/util/projections\\\");\\n        var x = special_vars.data_x\\n        var y = special_vars.data_y\\n        var coords = projections.wgs84_mercator.invert(x, y)\\n        return \\\"\\\" + (coords[1]).toFixed(4)\\n    \"},\"id\":\"1364\",\"type\":\"CustomJSHover\"},{\"attributes\":{\"source\":{\"id\":\"1353\"}},\"id\":\"1362\",\"type\":\"CDSView\"},{\"attributes\":{\"match_aspect\":true,\"overlay\":{\"id\":\"1312\"}},\"id\":\"1310\",\"type\":\"BoxZoomTool\"},{\"attributes\":{},\"id\":\"1295\",\"type\":\"LinearScale\"},{\"attributes\":{\"coordinates\":null,\"group\":null,\"text\":\"Plot Showing Ideal Cities for Vacation\",\"text_color\":\"black\",\"text_font_size\":\"12pt\"},\"id\":\"1291\",\"type\":\"Title\"},{\"attributes\":{\"data\":{\"City\":[],\"Humidity\":[],\"Lat\":{\"__ndarray__\":\"\",\"dtype\":\"float64\",\"order\":\"little\",\"shape\":[0]},\"Lng\":{\"__ndarray__\":\"\",\"dtype\":\"float64\",\"order\":\"little\",\"shape\":[0]},\"color\":[],\"size\":{\"__ndarray__\":\"\",\"dtype\":\"float64\",\"order\":\"little\",\"shape\":[0]}},\"selected\":{\"id\":\"1354\"},\"selection_policy\":{\"id\":\"1372\"}},\"id\":\"1353\",\"type\":\"ColumnDataSource\"},{\"attributes\":{},\"id\":\"1328\",\"type\":\"AllLabels\"},{\"attributes\":{\"axis\":{\"id\":\"1299\"},\"coordinates\":null,\"grid_line_color\":null,\"group\":null,\"ticker\":null},\"id\":\"1302\",\"type\":\"Grid\"},{\"attributes\":{\"attribution\":\"&copy; <a href=\\\"https://www.openstreetmap.org/copyright\\\">OpenStreetMap</a> contributors\",\"url\":\"https://c.tile.openstreetmap.org/{Z}/{X}/{Y}.png\"},\"id\":\"1348\",\"type\":\"WMTSTileSource\"},{\"attributes\":{},\"id\":\"1297\",\"type\":\"LinearScale\"},{\"attributes\":{},\"id\":\"1372\",\"type\":\"UnionRenderers\"},{\"attributes\":{\"min_interval\":5,\"start\":3.0,\"tags\":[[[\"Lng\",\"Lng\",null]]]},\"id\":\"1283\",\"type\":\"Range1d\"},{\"attributes\":{\"axis_label\":\"Longitude\",\"coordinates\":null,\"formatter\":{\"id\":\"1325\"},\"group\":null,\"major_label_policy\":{\"id\":\"1335\"},\"ticker\":{\"id\":\"1324\"}},\"id\":\"1303\",\"type\":\"LinearAxis\"},{\"attributes\":{\"fill_alpha\":{\"value\":0.2},\"fill_color\":{\"field\":\"color\"},\"hatch_alpha\":{\"value\":0.2},\"hatch_color\":{\"field\":\"color\"},\"line_alpha\":{\"value\":0.2},\"line_color\":{\"field\":\"color\"},\"size\":{\"field\":\"size\"},\"x\":{\"field\":\"Lng\"},\"y\":{\"field\":\"Lat\"}},\"id\":\"1360\",\"type\":\"Scatter\"},{\"attributes\":{\"code\":\"\\n        var projections = Bokeh.require(\\\"core/util/projections\\\");\\n        var x = special_vars.data_x\\n        var y = special_vars.data_y\\n        var coords = projections.wgs84_mercator.invert(x, y)\\n        return \\\"\\\" + (coords[0]).toFixed(4)\\n    \"},\"id\":\"1363\",\"type\":\"CustomJSHover\"},{\"attributes\":{\"axis_label\":\"Latitude\",\"coordinates\":null,\"formatter\":{\"id\":\"1323\"},\"group\":null,\"major_label_policy\":{\"id\":\"1328\"},\"ticker\":{\"id\":\"1322\"}},\"id\":\"1299\",\"type\":\"LinearAxis\"},{\"attributes\":{\"bottom_units\":\"screen\",\"coordinates\":null,\"fill_alpha\":0.5,\"fill_color\":\"lightgrey\",\"group\":null,\"left_units\":\"screen\",\"level\":\"overlay\",\"line_alpha\":1.0,\"line_color\":\"black\",\"line_dash\":[4,4],\"line_width\":2,\"right_units\":\"screen\",\"syncable\":false,\"top_units\":\"screen\"},\"id\":\"1312\",\"type\":\"BoxAnnotation\"},{\"attributes\":{\"min_interval\":5,\"start\":3.0,\"tags\":[[[\"Lat\",\"Lat\",null]]]},\"id\":\"1284\",\"type\":\"Range1d\"},{\"attributes\":{},\"id\":\"1335\",\"type\":\"AllLabels\"},{\"attributes\":{\"children\":[{\"id\":\"1290\"}],\"margin\":[0,0,0,0],\"name\":\"Row01816\",\"sizing_mode\":\"fixed\",\"tags\":[\"embedded\"]},\"id\":\"1278\",\"type\":\"Row\"},{\"attributes\":{\"axis\":{\"id\":\"1303\"},\"coordinates\":null,\"dimension\":1,\"grid_line_color\":null,\"group\":null,\"ticker\":null},\"id\":\"1306\",\"type\":\"Grid\"},{\"attributes\":{\"coordinates\":null,\"group\":null,\"level\":\"glyph\",\"tile_source\":{\"id\":\"1348\"}},\"id\":\"1351\",\"type\":\"TileRenderer\"},{\"attributes\":{\"dimension\":\"lon\"},\"id\":\"1322\",\"type\":\"MercatorTicker\"},{\"attributes\":{\"fill_alpha\":{\"value\":0.5},\"fill_color\":{\"field\":\"color\"},\"hatch_color\":{\"field\":\"color\"},\"line_color\":{\"field\":\"color\"},\"size\":{\"field\":\"size\"},\"x\":{\"field\":\"Lng\"},\"y\":{\"field\":\"Lat\"}},\"id\":\"1359\",\"type\":\"Scatter\"},{\"attributes\":{\"callback\":null,\"formatters\":{\"$x\":{\"id\":\"1363\"},\"$y\":{\"id\":\"1364\"}},\"renderers\":[{\"id\":\"1361\"}],\"tags\":[\"hv_created\"],\"tooltips\":[[\"Lng\",\"$x{custom}\"],[\"Lat\",\"$y{custom}\"],[\"City\",\"@{City}\"],[\"Humidity\",\"@{Humidity}\"]]},\"id\":\"1287\",\"type\":\"HoverTool\"},{\"attributes\":{\"dimension\":\"lon\"},\"id\":\"1323\",\"type\":\"MercatorTickFormatter\"},{\"attributes\":{\"fill_alpha\":{\"value\":0.5},\"fill_color\":{\"field\":\"color\"},\"hatch_color\":{\"field\":\"color\"},\"line_color\":{\"field\":\"color\"},\"size\":{\"field\":\"size\"},\"x\":{\"field\":\"Lng\"},\"y\":{\"field\":\"Lat\"}},\"id\":\"1358\",\"type\":\"Scatter\"},{\"attributes\":{\"dimension\":\"lat\"},\"id\":\"1325\",\"type\":\"MercatorTickFormatter\"},{\"attributes\":{\"active_drag\":{\"id\":\"1308\"},\"active_scroll\":{\"id\":\"1309\"},\"tools\":[{\"id\":\"1287\"},{\"id\":\"1307\"},{\"id\":\"1308\"},{\"id\":\"1309\"},{\"id\":\"1310\"},{\"id\":\"1311\"}]},\"id\":\"1313\",\"type\":\"Toolbar\"}],\"root_ids\":[\"1278\"]},\"title\":\"Bokeh Application\",\"version\":\"2.4.3\"}};\n",
       "    var render_items = [{\"docid\":\"b2012bef-4411-47b5-8961-c73951e2a294\",\"root_ids\":[\"1278\"],\"roots\":{\"1278\":\"c2f37305-cde7-4244-aff4-b446e31127cb\"}}];\n",
       "    root.Bokeh.embed.embed_items_notebook(docs_json, render_items);\n",
       "    for (const render_item of render_items) {\n",
       "      for (const root_id of render_item.root_ids) {\n",
       "\tconst id_el = document.getElementById(root_id)\n",
       "\tif (id_el.children.length && (id_el.children[0].className === 'bk-root')) {\n",
       "\t  const root_el = id_el.children[0]\n",
       "\t  root_el.id = root_el.id + '-rendered'\n",
       "\t}\n",
       "      }\n",
       "    }\n",
       "  }\n",
       "  if (root.Bokeh !== undefined && root.Bokeh.Panel !== undefined) {\n",
       "    embed_document(root);\n",
       "  } else {\n",
       "    var attempts = 0;\n",
       "    var timer = setInterval(function(root) {\n",
       "      if (root.Bokeh !== undefined && root.Bokeh.Panel !== undefined) {\n",
       "        clearInterval(timer);\n",
       "        embed_document(root);\n",
       "      } else if (document.readyState == \"complete\") {\n",
       "        attempts++;\n",
       "        if (attempts > 200) {\n",
       "          clearInterval(timer);\n",
       "          console.log(\"Bokeh: ERROR: Unable to run BokehJS code because BokehJS library is missing\");\n",
       "        }\n",
       "      }\n",
       "    }, 25, root)\n",
       "  }\n",
       "})(window);</script>"
      ],
      "text/plain": [
       ":Overlay\n",
       "   .Tiles.I  :Tiles   [x,y]\n",
       "   .Points.I :Points   [Lng,Lat]   (City,Humidity)"
      ]
     },
     "execution_count": 19,
     "metadata": {
      "application/vnd.holoviews_exec.v0+json": {
       "id": "1278"
      }
     },
     "output_type": "execute_result"
    }
   ],
   "source": [
    "%%capture --no-display\n",
    "\n",
    "# Configure the map plot\n",
    "# YOUR CODE HERE\n",
    "map_plot_2 = hotel_df.hvplot.points(\n",
    "    \"Lng\",\n",
    "    \"Lat\",\n",
    "    geo=True,\n",
    "    tiles=\"OSM\",\n",
    "    frame_width=400,\n",
    "    frame_height=300,\n",
    "    size=\"Humidity\",\n",
    "    scale=1.5,\n",
    "    color=\"City\",\n",
    "    fill_alpha=0.5,\n",
    "    title=\"Plot Showing Ideal Cities for Vacation\",\n",
    "    xlabel=\"Latitude\",\n",
    "    ylabel=\"Longitude\"\n",
    ")\n",
    "# Display the map\n",
    "# YOUR CODE HERE\n",
    "map_plot_2"
   ]
  },
  {
   "cell_type": "code",
   "execution_count": null,
   "metadata": {},
   "outputs": [],
   "source": []
  }
 ],
 "metadata": {
  "kernelspec": {
   "display_name": "PythonData",
   "language": "python",
   "name": "pythondata"
  },
  "language_info": {
   "codemirror_mode": {
    "name": "ipython",
    "version": 3
   },
   "file_extension": ".py",
   "mimetype": "text/x-python",
   "name": "python",
   "nbconvert_exporter": "python",
   "pygments_lexer": "ipython3",
   "version": "3.7.7"
  },
  "latex_envs": {
   "LaTeX_envs_menu_present": true,
   "autoclose": false,
   "autocomplete": true,
   "bibliofile": "biblio.bib",
   "cite_by": "apalike",
   "current_citInitial": 1,
   "eqLabelWithNumbers": true,
   "eqNumInitial": 1,
   "hotkeys": {
    "equation": "Ctrl-E",
    "itemize": "Ctrl-I"
   },
   "labels_anchors": false,
   "latex_user_defs": false,
   "report_style_numbering": false,
   "user_envs_cfg": false
  },
  "vscode": {
   "interpreter": {
    "hash": "7893b40a1826663680928ea37c9cdc6dcfaf918c701578268fb1b4eb946a29d5"
   }
  }
 },
 "nbformat": 4,
 "nbformat_minor": 4
}
